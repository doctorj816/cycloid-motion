{
 "cells": [
  {
   "cell_type": "markdown",
   "metadata": {},
   "source": [
    "# Cycloid motion\n",
    "\n",
    "* [Circle Illusion Animation](https://www.youtube.com/watch?v=pNe6fsaCVtI) - the inspiration\n",
    "* [Cycloid - Wolfram MathWorld](https://mathworld.wolfram.com/Cycloid.html) - the math"
   ]
  },
  {
   "cell_type": "markdown",
   "metadata": {},
   "source": [
    "## Using nested loops to generate data points"
   ]
  },
  {
   "cell_type": "code",
   "execution_count": 1,
   "metadata": {},
   "outputs": [],
   "source": [
    "import math\n",
    "import numpy as np\n",
    "import pandas as pd\n",
    "import plotly.express as px"
   ]
  },
  {
   "cell_type": "code",
   "execution_count": 7,
   "metadata": {},
   "outputs": [
    {
     "data": {
      "application/vnd.plotly.v1+json": {
       "config": {
        "plotlyServerURL": "https://plot.ly"
       },
       "data": [
        {
         "hovertemplate": "<b>%{hovertext}</b><br><br>theta=0.0<br>x=%{x}<br>y=%{y}<br>dot_num=%{marker.color}<extra></extra>",
         "hovertext": [
          0,
          1,
          2,
          3,
          4,
          5,
          6,
          7
         ],
         "ids": [
          0,
          1,
          2,
          3,
          4,
          5,
          6,
          7
         ],
         "legendgroup": "",
         "marker": {
          "color": [
           0,
           1,
           2,
           3,
           4,
           5,
           6,
           7
          ],
          "coloraxis": "coloraxis",
          "symbol": "circle"
         },
         "mode": "markers",
         "name": "",
         "orientation": "v",
         "showlegend": false,
         "type": "scatter",
         "x": [
          0,
          0.3535533905932738,
          0.5000000000000001,
          0.35355339059327384,
          6.123233995736766e-17,
          -0.35355339059327373,
          -0.5,
          -0.35355339059327384
         ],
         "xaxis": "x",
         "y": [
          0,
          0.14644660940672624,
          0.5000000000000001,
          0.8535533905932737,
          1,
          0.8535533905932737,
          0.5000000000000001,
          0.14644660940672632
         ],
         "yaxis": "y"
        }
       ],
       "frames": [
        {
         "data": [
          {
           "hovertemplate": "<b>%{hovertext}</b><br><br>theta=0.0<br>x=%{x}<br>y=%{y}<br>dot_num=%{marker.color}<extra></extra>",
           "hovertext": [
            0,
            1,
            2,
            3,
            4,
            5,
            6,
            7
           ],
           "ids": [
            0,
            1,
            2,
            3,
            4,
            5,
            6,
            7
           ],
           "legendgroup": "",
           "marker": {
            "color": [
             0,
             1,
             2,
             3,
             4,
             5,
             6,
             7
            ],
            "coloraxis": "coloraxis",
            "symbol": "circle"
           },
           "mode": "markers",
           "name": "",
           "orientation": "v",
           "showlegend": false,
           "type": "scatter",
           "x": [
            0,
            0.3535533905932738,
            0.5000000000000001,
            0.35355339059327384,
            6.123233995736766e-17,
            -0.35355339059327373,
            -0.5,
            -0.35355339059327384
           ],
           "xaxis": "x",
           "y": [
            0,
            0.14644660940672624,
            0.5000000000000001,
            0.8535533905932737,
            1,
            0.8535533905932737,
            0.5000000000000001,
            0.14644660940672632
           ],
           "yaxis": "y"
          }
         ],
         "name": "0.0"
        },
        {
         "data": [
          {
           "hovertemplate": "<b>%{hovertext}</b><br><br>theta=10.0<br>x=%{x}<br>y=%{y}<br>dot_num=%{marker.color}<extra></extra>",
           "hovertext": [
            0,
            1,
            2,
            3,
            4,
            5,
            6,
            7
           ],
           "ids": [
            0,
            1,
            2,
            3,
            4,
            5,
            6,
            7
           ],
           "legendgroup": "",
           "marker": {
            "color": [
             0,
             1,
             2,
             3,
             4,
             5,
             6,
             7
            ],
            "coloraxis": "coloraxis",
            "symbol": "circle"
           },
           "mode": "markers",
           "name": "",
           "orientation": "v",
           "showlegend": false,
           "type": "scatter",
           "x": [
            0.17364817766693033,
            0.496400110977961,
            0.5792279653395692,
            0.3736123070089883,
            6.030208312509488e-17,
            -0.32275193331103075,
            -0.405579787672639,
            -0.19996412934205815
           ],
           "xaxis": "x",
           "y": [
            0,
            0.20561565833058096,
            0.5792279653395692,
            0.9019798986505999,
            0.984807753012208,
            0.7791920946816272,
            0.4055797876726391,
            0.08282785436160828
           ],
           "yaxis": "y"
          }
         ],
         "name": "10.0"
        },
        {
         "data": [
          {
           "hovertemplate": "<b>%{hovertext}</b><br><br>theta=20.0<br>x=%{x}<br>y=%{y}<br>dot_num=%{marker.color}<extra></extra>",
           "hovertext": [
            0,
            1,
            2,
            3,
            4,
            5,
            6,
            7
           ],
           "ids": [
            0,
            1,
            2,
            3,
            4,
            5,
            6,
            7
           ],
           "legendgroup": "",
           "marker": {
            "color": [
             0,
             1,
             2,
             3,
             4,
             5,
             6,
             7
            ],
            "coloraxis": "coloraxis",
            "symbol": "circle"
           },
           "mode": "markers",
           "name": "",
           "orientation": "v",
           "showlegend": false,
           "type": "scatter",
           "x": [
            0.3420201433256687,
            0.6241639651811594,
            0.6408563820557885,
            0.3823192025331842,
            5.753957801139251e-17,
            -0.2821438218554906,
            -0.29883623873011983,
            -0.04029905920751541
           ],
           "xaxis": "x",
           "y": [
            0,
            0.25853717952260447,
            0.6408563820557885,
            0.9230002039112792,
            0.9396926207859084,
            0.681155441263304,
            0.2988362387301199,
            0.016692416874629242
           ],
           "yaxis": "y"
          }
         ],
         "name": "20.0"
        },
        {
         "data": [
          {
           "hovertemplate": "<b>%{hovertext}</b><br><br>theta=30.0<br>x=%{x}<br>y=%{y}<br>dot_num=%{marker.color}<extra></extra>",
           "hovertext": [
            0,
            1,
            2,
            3,
            4,
            5,
            6,
            7
           ],
           "ids": [
            0,
            1,
            2,
            3,
            4,
            5,
            6,
            7
           ],
           "legendgroup": "",
           "marker": {
            "color": [
             0,
             1,
             2,
             3,
             4,
             5,
             6,
             7
            ],
            "coloraxis": "coloraxis",
            "symbol": "circle"
           },
           "mode": "markers",
           "name": "",
           "orientation": "v",
           "showlegend": false,
           "type": "scatter",
           "x": [
            0.49999999999999994,
            0.7329629131445341,
            0.6830127018922193,
            0.3794095225512605,
            5.3028761936245346e-17,
            -0.2329629131445342,
            -0.1830127018922195,
            0.12059047744873937
           ],
           "xaxis": "x",
           "y": [
            0,
            0.30360317934095893,
            0.6830127018922193,
            0.9159756150367535,
            0.8660254037844387,
            0.5624222244434799,
            0.18301270189221952,
            -0.04995021125231473
           ],
           "yaxis": "y"
          }
         ],
         "name": "30.0"
        },
        {
         "data": [
          {
           "hovertemplate": "<b>%{hovertext}</b><br><br>theta=40.0<br>x=%{x}<br>y=%{y}<br>dot_num=%{marker.color}<extra></extra>",
           "hovertext": [
            0,
            1,
            2,
            3,
            4,
            5,
            6,
            7
           ],
           "ids": [
            0,
            1,
            2,
            3,
            4,
            5,
            6,
            7
           ],
           "legendgroup": "",
           "marker": {
            "color": [
             0,
             1,
             2,
             3,
             4,
             5,
             6,
             7
            ],
            "coloraxis": "coloraxis",
            "symbol": "circle"
           },
           "mode": "markers",
           "name": "",
           "orientation": "v",
           "showlegend": false,
           "type": "scatter",
           "x": [
            0.6427876096865393,
            0.8194911538891424,
            0.7044160264027587,
            0.3649716762170988,
            4.6906693763513654e-17,
            -0.17670354420260306,
            -0.06162841671621936,
            0.2778159334694405
           ],
           "xaxis": "x",
           "y": [
            0,
            0.33944435018565994,
            0.7044160264027587,
            0.8811195706053617,
            0.766044443118978,
            0.4266000929333181,
            0.061628416716219374,
            -0.11507512748638377
           ],
           "yaxis": "y"
          }
         ],
         "name": "40.0"
        },
        {
         "data": [
          {
           "hovertemplate": "<b>%{hovertext}</b><br><br>theta=50.0<br>x=%{x}<br>y=%{y}<br>dot_num=%{marker.color}<extra></extra>",
           "hovertext": [
            0,
            1,
            2,
            3,
            4,
            5,
            6,
            7
           ],
           "ids": [
            0,
            1,
            2,
            3,
            4,
            5,
            6,
            7
           ],
           "legendgroup": "",
           "marker": {
            "color": [
             0,
             1,
             2,
             3,
             4,
             5,
             6,
             7
            ],
            "coloraxis": "coloraxis",
            "symbol": "circle"
           },
           "mode": "markers",
           "name": "",
           "orientation": "v",
           "showlegend": false,
           "type": "scatter",
           "x": [
            0.766044443118978,
            0.8811195706053617,
            0.7044160264027587,
            0.33944435018566005,
            3.935938943670994e-17,
            -0.11507512748638382,
            0.061628416716219186,
            0.42660009293331785
           ],
           "xaxis": "x",
           "y": [
            0,
            0.3649716762170987,
            0.7044160264027587,
            0.8194911538891425,
            0.6427876096865395,
            0.2778159334694408,
            -0.06162841671621919,
            -0.17670354420260306
           ],
           "yaxis": "y"
          }
         ],
         "name": "50.0"
        },
        {
         "data": [
          {
           "hovertemplate": "<b>%{hovertext}</b><br><br>theta=60.0<br>x=%{x}<br>y=%{y}<br>dot_num=%{marker.color}<extra></extra>",
           "hovertext": [
            0,
            1,
            2,
            3,
            4,
            5,
            6,
            7
           ],
           "ids": [
            0,
            1,
            2,
            3,
            4,
            5,
            6,
            7
           ],
           "legendgroup": "",
           "marker": {
            "color": [
             0,
             1,
             2,
             3,
             4,
             5,
             6,
             7
            ],
            "coloraxis": "coloraxis",
            "symbol": "circle"
           },
           "mode": "markers",
           "name": "",
           "orientation": "v",
           "showlegend": false,
           "type": "scatter",
           "x": [
            0.8660254037844386,
            0.9159756150367534,
            0.6830127018922194,
            0.303603179340959,
            3.061616997868385e-17,
            -0.04995021125231481,
            0.18301270189221902,
            0.5624222244434797
           ],
           "xaxis": "x",
           "y": [
            0,
            0.37940952255126037,
            0.6830127018922194,
            0.7329629131445341,
            0.5000000000000003,
            0.1205904774487396,
            -0.18301270189221905,
            -0.2329629131445342
           ],
           "yaxis": "y"
          }
         ],
         "name": "60.0"
        },
        {
         "data": [
          {
           "hovertemplate": "<b>%{hovertext}</b><br><br>theta=70.0<br>x=%{x}<br>y=%{y}<br>dot_num=%{marker.color}<extra></extra>",
           "hovertext": [
            0,
            1,
            2,
            3,
            4,
            5,
            6,
            7
           ],
           "ids": [
            0,
            1,
            2,
            3,
            4,
            5,
            6,
            7
           ],
           "legendgroup": "",
           "marker": {
            "color": [
             0,
             1,
             2,
             3,
             4,
             5,
             6,
             7
            ],
            "coloraxis": "coloraxis",
            "symbol": "circle"
           },
           "mode": "markers",
           "name": "",
           "orientation": "v",
           "showlegend": false,
           "type": "scatter",
           "x": [
            0.9396926207859083,
            0.9230002039112792,
            0.6408563820557887,
            0.2585371795226046,
            2.0942693688384968e-17,
            0.01669241687462914,
            0.29883623873011966,
            0.6811554412633037
           ],
           "xaxis": "x",
           "y": [
            0,
            0.38231920253318413,
            0.6408563820557887,
            0.6241639651811595,
            0.3420201433256689,
            -0.04029905920751519,
            -0.2988362387301197,
            -0.28214382185549064
           ],
           "yaxis": "y"
          }
         ],
         "name": "70.0"
        },
        {
         "data": [
          {
           "hovertemplate": "<b>%{hovertext}</b><br><br>theta=80.0<br>x=%{x}<br>y=%{y}<br>dot_num=%{marker.color}<extra></extra>",
           "hovertext": [
            0,
            1,
            2,
            3,
            4,
            5,
            6,
            7
           ],
           "ids": [
            0,
            1,
            2,
            3,
            4,
            5,
            6,
            7
           ],
           "legendgroup": "",
           "marker": {
            "color": [
             0,
             1,
             2,
             3,
             4,
             5,
             6,
             7
            ],
            "coloraxis": "coloraxis",
            "symbol": "circle"
           },
           "mode": "markers",
           "name": "",
           "orientation": "v",
           "showlegend": false,
           "type": "scatter",
           "x": [
            0.984807753012208,
            0.9019798986505999,
            0.5792279653395692,
            0.20561565833058112,
            1.0632884247878853e-17,
            0.08282785436160799,
            0.40557978767263886,
            0.7791920946816269
           ],
           "xaxis": "x",
           "y": [
            0,
            0.37361230700898823,
            0.5792279653395692,
            0.49640011097796133,
            0.17364817766693028,
            -0.19996412934205754,
            -0.4055797876726389,
            -0.32275193331103075
           ],
           "yaxis": "y"
          }
         ],
         "name": "80.0"
        },
        {
         "data": [
          {
           "hovertemplate": "<b>%{hovertext}</b><br><br>theta=90.0<br>x=%{x}<br>y=%{y}<br>dot_num=%{marker.color}<extra></extra>",
           "hovertext": [
            0,
            1,
            2,
            3,
            4,
            5,
            6,
            7
           ],
           "ids": [
            0,
            1,
            2,
            3,
            4,
            5,
            6,
            7
           ],
           "legendgroup": "",
           "marker": {
            "color": [
             0,
             1,
             2,
             3,
             4,
             5,
             6,
             7
            ],
            "coloraxis": "coloraxis",
            "symbol": "circle"
           },
           "mode": "markers",
           "name": "",
           "orientation": "v",
           "showlegend": false,
           "type": "scatter",
           "x": [
            1,
            0.8535533905932737,
            0.5000000000000001,
            0.1464466094067263,
            7.498798913309288e-33,
            0.14644660940672619,
            0.4999999999999999,
            0.8535533905932735
           ],
           "xaxis": "x",
           "y": [
            0,
            0.3535533905932738,
            0.5000000000000001,
            0.35355339059327384,
            1.2246467991473532e-16,
            -0.3535533905932737,
            -0.5,
            -0.3535533905932738
           ],
           "yaxis": "y"
          }
         ],
         "name": "90.0"
        },
        {
         "data": [
          {
           "hovertemplate": "<b>%{hovertext}</b><br><br>theta=100.0<br>x=%{x}<br>y=%{y}<br>dot_num=%{marker.color}<extra></extra>",
           "hovertext": [
            0,
            1,
            2,
            3,
            4,
            5,
            6,
            7
           ],
           "ids": [
            0,
            1,
            2,
            3,
            4,
            5,
            6,
            7
           ],
           "legendgroup": "",
           "marker": {
            "color": [
             0,
             1,
             2,
             3,
             4,
             5,
             6,
             7
            ],
            "coloraxis": "coloraxis",
            "symbol": "circle"
           },
           "mode": "markers",
           "name": "",
           "orientation": "v",
           "showlegend": false,
           "type": "scatter",
           "x": [
            0.984807753012208,
            0.779192094681627,
            0.4055797876726391,
            0.0828278543616081,
            -1.0632884247878838e-17,
            0.20561565833058099,
            0.579227965339569,
            0.9019798986505999
           ],
           "xaxis": "x",
           "y": [
            0,
            0.3227519333110307,
            0.4055797876726391,
            0.19996412934205773,
            -0.17364817766693003,
            -0.4964001109779611,
            -0.5792279653395691,
            -0.37361230700898834
           ],
           "yaxis": "y"
          }
         ],
         "name": "100.0"
        },
        {
         "data": [
          {
           "hovertemplate": "<b>%{hovertext}</b><br><br>theta=110.0<br>x=%{x}<br>y=%{y}<br>dot_num=%{marker.color}<extra></extra>",
           "hovertext": [
            0,
            1,
            2,
            3,
            4,
            5,
            6,
            7
           ],
           "ids": [
            0,
            1,
            2,
            3,
            4,
            5,
            6,
            7
           ],
           "legendgroup": "",
           "marker": {
            "color": [
             0,
             1,
             2,
             3,
             4,
             5,
             6,
             7
            ],
            "coloraxis": "coloraxis",
            "symbol": "circle"
           },
           "mode": "markers",
           "name": "",
           "orientation": "v",
           "showlegend": false,
           "type": "scatter",
           "x": [
            0.9396926207859084,
            0.681155441263304,
            0.2988362387301199,
            0.01669241687462924,
            -2.0942693688384956e-17,
            0.2585371795226044,
            0.6408563820557887,
            0.9230002039112792
           ],
           "xaxis": "x",
           "y": [
            0,
            0.28214382185549064,
            0.2988362387301199,
            0.04029905920751541,
            -0.34202014332566866,
            -0.6241639651811592,
            -0.6408563820557888,
            -0.38231920253318424
           ],
           "yaxis": "y"
          }
         ],
         "name": "110.0"
        },
        {
         "data": [
          {
           "hovertemplate": "<b>%{hovertext}</b><br><br>theta=120.0<br>x=%{x}<br>y=%{y}<br>dot_num=%{marker.color}<extra></extra>",
           "hovertext": [
            0,
            1,
            2,
            3,
            4,
            5,
            6,
            7
           ],
           "ids": [
            0,
            1,
            2,
            3,
            4,
            5,
            6,
            7
           ],
           "legendgroup": "",
           "marker": {
            "color": [
             0,
             1,
             2,
             3,
             4,
             5,
             6,
             7
            ],
            "coloraxis": "coloraxis",
            "symbol": "circle"
           },
           "mode": "markers",
           "name": "",
           "orientation": "v",
           "showlegend": false,
           "type": "scatter",
           "x": [
            0.8660254037844387,
            0.5624222244434799,
            0.18301270189221952,
            -0.049950211252314726,
            -3.061616997868381e-17,
            0.3036031793409588,
            0.6830127018922193,
            0.9159756150367535
           ],
           "xaxis": "x",
           "y": [
            0,
            0.23296291314453424,
            0.18301270189221952,
            -0.12059047744873937,
            -0.4999999999999997,
            -0.7329629131445339,
            -0.6830127018922194,
            -0.37940952255126054
           ],
           "yaxis": "y"
          }
         ],
         "name": "120.0"
        },
        {
         "data": [
          {
           "hovertemplate": "<b>%{hovertext}</b><br><br>theta=130.0<br>x=%{x}<br>y=%{y}<br>dot_num=%{marker.color}<extra></extra>",
           "hovertext": [
            0,
            1,
            2,
            3,
            4,
            5,
            6,
            7
           ],
           "ids": [
            0,
            1,
            2,
            3,
            4,
            5,
            6,
            7
           ],
           "legendgroup": "",
           "marker": {
            "color": [
             0,
             1,
             2,
             3,
             4,
             5,
             6,
             7
            ],
            "coloraxis": "coloraxis",
            "symbol": "circle"
           },
           "mode": "markers",
           "name": "",
           "orientation": "v",
           "showlegend": false,
           "type": "scatter",
           "x": [
            0.766044443118978,
            0.4266000929333181,
            0.061628416716219374,
            -0.11507512748638375,
            -3.9359389436709925e-17,
            0.3394443501856598,
            0.7044160264027586,
            0.8811195706053617
           ],
           "xaxis": "x",
           "y": [
            0,
            0.1767035442026031,
            0.061628416716219374,
            -0.2778159334694405,
            -0.6427876096865393,
            -0.8194911538891422,
            -0.7044160264027587,
            -0.3649716762170988
           ],
           "yaxis": "y"
          }
         ],
         "name": "130.0"
        },
        {
         "data": [
          {
           "hovertemplate": "<b>%{hovertext}</b><br><br>theta=140.0<br>x=%{x}<br>y=%{y}<br>dot_num=%{marker.color}<extra></extra>",
           "hovertext": [
            0,
            1,
            2,
            3,
            4,
            5,
            6,
            7
           ],
           "ids": [
            0,
            1,
            2,
            3,
            4,
            5,
            6,
            7
           ],
           "legendgroup": "",
           "marker": {
            "color": [
             0,
             1,
             2,
             3,
             4,
             5,
             6,
             7
            ],
            "coloraxis": "coloraxis",
            "symbol": "circle"
           },
           "mode": "markers",
           "name": "",
           "orientation": "v",
           "showlegend": false,
           "type": "scatter",
           "x": [
            0.6427876096865395,
            0.2778159334694408,
            -0.06162841671621919,
            -0.17670354420260304,
            -4.690669376351365e-17,
            0.36497167621709864,
            0.7044160264027586,
            0.8194911538891423
           ],
           "xaxis": "x",
           "y": [
            0,
            0.11507512748638384,
            -0.06162841671621919,
            -0.42660009293331785,
            -0.7660444431189779,
            -0.8811195706053616,
            -0.7044160264027587,
            -0.33944435018566
           ],
           "yaxis": "y"
          }
         ],
         "name": "140.0"
        },
        {
         "data": [
          {
           "hovertemplate": "<b>%{hovertext}</b><br><br>theta=150.0<br>x=%{x}<br>y=%{y}<br>dot_num=%{marker.color}<extra></extra>",
           "hovertext": [
            0,
            1,
            2,
            3,
            4,
            5,
            6,
            7
           ],
           "ids": [
            0,
            1,
            2,
            3,
            4,
            5,
            6,
            7
           ],
           "legendgroup": "",
           "marker": {
            "color": [
             0,
             1,
             2,
             3,
             4,
             5,
             6,
             7
            ],
            "coloraxis": "coloraxis",
            "symbol": "circle"
           },
           "mode": "markers",
           "name": "",
           "orientation": "v",
           "showlegend": false,
           "type": "scatter",
           "x": [
            0.49999999999999994,
            0.1205904774487396,
            -0.18301270189221935,
            -0.23296291314453418,
            -5.302876193624536e-17,
            0.3794095225512603,
            0.6830127018922194,
            0.7329629131445341
           ],
           "xaxis": "x",
           "y": [
            0,
            0.049950211252314816,
            -0.18301270189221935,
            -0.5624222244434797,
            -0.8660254037844388,
            -0.9159756150367534,
            -0.6830127018922195,
            -0.30360317934095904
           ],
           "yaxis": "y"
          }
         ],
         "name": "150.0"
        },
        {
         "data": [
          {
           "hovertemplate": "<b>%{hovertext}</b><br><br>theta=160.0<br>x=%{x}<br>y=%{y}<br>dot_num=%{marker.color}<extra></extra>",
           "hovertext": [
            0,
            1,
            2,
            3,
            4,
            5,
            6,
            7
           ],
           "ids": [
            0,
            1,
            2,
            3,
            4,
            5,
            6,
            7
           ],
           "legendgroup": "",
           "marker": {
            "color": [
             0,
             1,
             2,
             3,
             4,
             5,
             6,
             7
            ],
            "coloraxis": "coloraxis",
            "symbol": "circle"
           },
           "mode": "markers",
           "name": "",
           "orientation": "v",
           "showlegend": false,
           "type": "scatter",
           "x": [
            0.3420201433256689,
            -0.04029905920751519,
            -0.2988362387301197,
            -0.2821438218554906,
            -5.753957801139251e-17,
            0.3823192025331841,
            0.6408563820557888,
            0.6241639651811596
           ],
           "xaxis": "x",
           "y": [
            0,
            -0.016692416874629145,
            -0.2988362387301197,
            -0.6811554412633037,
            -0.9396926207859084,
            -0.9230002039112792,
            -0.6408563820557888,
            -0.25853717952260463
           ],
           "yaxis": "y"
          }
         ],
         "name": "160.0"
        },
        {
         "data": [
          {
           "hovertemplate": "<b>%{hovertext}</b><br><br>theta=170.0<br>x=%{x}<br>y=%{y}<br>dot_num=%{marker.color}<extra></extra>",
           "hovertext": [
            0,
            1,
            2,
            3,
            4,
            5,
            6,
            7
           ],
           "ids": [
            0,
            1,
            2,
            3,
            4,
            5,
            6,
            7
           ],
           "legendgroup": "",
           "marker": {
            "color": [
             0,
             1,
             2,
             3,
             4,
             5,
             6,
             7
            ],
            "coloraxis": "coloraxis",
            "symbol": "circle"
           },
           "mode": "markers",
           "name": "",
           "orientation": "v",
           "showlegend": false,
           "type": "scatter",
           "x": [
            0.17364817766693028,
            -0.19996412934205793,
            -0.4055797876726389,
            -0.3227519333110307,
            -6.030208312509488e-17,
            0.3736123070089881,
            0.5792279653395691,
            0.49640011097796144
           ],
           "xaxis": "x",
           "y": [
            0,
            -0.08282785436160815,
            -0.4055797876726389,
            -0.7791920946816269,
            -0.984807753012208,
            -0.9019798986505998,
            -0.5792279653395692,
            -0.2056156583305812
           ],
           "yaxis": "y"
          }
         ],
         "name": "170.0"
        },
        {
         "data": [
          {
           "hovertemplate": "<b>%{hovertext}</b><br><br>theta=180.0<br>x=%{x}<br>y=%{y}<br>dot_num=%{marker.color}<extra></extra>",
           "hovertext": [
            0,
            1,
            2,
            3,
            4,
            5,
            6,
            7
           ],
           "ids": [
            0,
            1,
            2,
            3,
            4,
            5,
            6,
            7
           ],
           "legendgroup": "",
           "marker": {
            "color": [
             0,
             1,
             2,
             3,
             4,
             5,
             6,
             7
            ],
            "coloraxis": "coloraxis",
            "symbol": "circle"
           },
           "mode": "markers",
           "name": "",
           "orientation": "v",
           "showlegend": false,
           "type": "scatter",
           "x": [
            1.2246467991473532e-16,
            -0.3535533905932737,
            -0.5,
            -0.35355339059327373,
            -6.123233995736766e-17,
            0.3535533905932737,
            0.5000000000000001,
            0.35355339059327434
           ],
           "xaxis": "x",
           "y": [
            0,
            -0.1464466094067262,
            -0.5,
            -0.8535533905932735,
            -1,
            -0.8535533905932736,
            -0.5000000000000001,
            -0.14644660940672652
           ],
           "yaxis": "y"
          }
         ],
         "name": "180.0"
        },
        {
         "data": [
          {
           "hovertemplate": "<b>%{hovertext}</b><br><br>theta=190.0<br>x=%{x}<br>y=%{y}<br>dot_num=%{marker.color}<extra></extra>",
           "hovertext": [
            0,
            1,
            2,
            3,
            4,
            5,
            6,
            7
           ],
           "ids": [
            0,
            1,
            2,
            3,
            4,
            5,
            6,
            7
           ],
           "legendgroup": "",
           "marker": {
            "color": [
             0,
             1,
             2,
             3,
             4,
             5,
             6,
             7
            ],
            "coloraxis": "coloraxis",
            "symbol": "circle"
           },
           "mode": "markers",
           "name": "",
           "orientation": "v",
           "showlegend": false,
           "type": "scatter",
           "x": [
            -0.17364817766693047,
            -0.4964001109779611,
            -0.5792279653395694,
            -0.3736123070089883,
            -6.030208312509489e-17,
            0.3227519333110307,
            0.4055797876726385,
            0.19996412934205787
           ],
           "xaxis": "x",
           "y": [
            0,
            -0.205615658330581,
            -0.5792279653395694,
            -0.9019798986505999,
            -0.9848077530122081,
            -0.7791920946816271,
            -0.40557978767263864,
            -0.08282785436160817
           ],
           "yaxis": "y"
          }
         ],
         "name": "190.0"
        },
        {
         "data": [
          {
           "hovertemplate": "<b>%{hovertext}</b><br><br>theta=200.0<br>x=%{x}<br>y=%{y}<br>dot_num=%{marker.color}<extra></extra>",
           "hovertext": [
            0,
            1,
            2,
            3,
            4,
            5,
            6,
            7
           ],
           "ids": [
            0,
            1,
            2,
            3,
            4,
            5,
            6,
            7
           ],
           "legendgroup": "",
           "marker": {
            "color": [
             0,
             1,
             2,
             3,
             4,
             5,
             6,
             7
            ],
            "coloraxis": "coloraxis",
            "symbol": "circle"
           },
           "mode": "markers",
           "name": "",
           "orientation": "v",
           "showlegend": false,
           "type": "scatter",
           "x": [
            -0.34202014332566866,
            -0.6241639651811592,
            -0.6408563820557888,
            -0.3823192025331842,
            -5.753957801139253e-17,
            0.28214382185549064,
            0.29883623873011966,
            0.04029905920751553
           ],
           "xaxis": "x",
           "y": [
            0,
            -0.2585371795226044,
            -0.6408563820557888,
            -0.9230002039112792,
            -0.9396926207859085,
            -0.6811554412633041,
            -0.2988362387301197,
            -0.01669241687462929
           ],
           "yaxis": "y"
          }
         ],
         "name": "200.0"
        },
        {
         "data": [
          {
           "hovertemplate": "<b>%{hovertext}</b><br><br>theta=210.0<br>x=%{x}<br>y=%{y}<br>dot_num=%{marker.color}<extra></extra>",
           "hovertext": [
            0,
            1,
            2,
            3,
            4,
            5,
            6,
            7
           ],
           "ids": [
            0,
            1,
            2,
            3,
            4,
            5,
            6,
            7
           ],
           "legendgroup": "",
           "marker": {
            "color": [
             0,
             1,
             2,
             3,
             4,
             5,
             6,
             7
            ],
            "coloraxis": "coloraxis",
            "symbol": "circle"
           },
           "mode": "markers",
           "name": "",
           "orientation": "v",
           "showlegend": false,
           "type": "scatter",
           "x": [
            -0.5000000000000001,
            -0.7329629131445339,
            -0.6830127018922194,
            -0.3794095225512604,
            -5.302876193624534e-17,
            0.23296291314453424,
            0.18301270189221924,
            -0.12059047744874006
           ],
           "xaxis": "x",
           "y": [
            0,
            -0.3036031793409589,
            -0.6830127018922194,
            -0.9159756150367534,
            -0.8660254037844386,
            -0.56242222444348,
            -0.18301270189221927,
            0.04995021125231502
           ],
           "yaxis": "y"
          }
         ],
         "name": "210.0"
        },
        {
         "data": [
          {
           "hovertemplate": "<b>%{hovertext}</b><br><br>theta=220.0<br>x=%{x}<br>y=%{y}<br>dot_num=%{marker.color}<extra></extra>",
           "hovertext": [
            0,
            1,
            2,
            3,
            4,
            5,
            6,
            7
           ],
           "ids": [
            0,
            1,
            2,
            3,
            4,
            5,
            6,
            7
           ],
           "legendgroup": "",
           "marker": {
            "color": [
             0,
             1,
             2,
             3,
             4,
             5,
             6,
             7
            ],
            "coloraxis": "coloraxis",
            "symbol": "circle"
           },
           "mode": "markers",
           "name": "",
           "orientation": "v",
           "showlegend": false,
           "type": "scatter",
           "x": [
            -0.6427876096865393,
            -0.8194911538891422,
            -0.7044160264027587,
            -0.36497167621709875,
            -4.690669376351366e-17,
            0.17670354420260326,
            0.06162841671621945,
            -0.27781593346944083
           ],
           "xaxis": "x",
           "y": [
            0,
            -0.3394443501856599,
            -0.7044160264027587,
            -0.8811195706053617,
            -0.7660444431189781,
            -0.4266000929333185,
            -0.061628416716219464,
            0.11507512748638389
           ],
           "yaxis": "y"
          }
         ],
         "name": "220.0"
        },
        {
         "data": [
          {
           "hovertemplate": "<b>%{hovertext}</b><br><br>theta=230.0<br>x=%{x}<br>y=%{y}<br>dot_num=%{marker.color}<extra></extra>",
           "hovertext": [
            0,
            1,
            2,
            3,
            4,
            5,
            6,
            7
           ],
           "ids": [
            0,
            1,
            2,
            3,
            4,
            5,
            6,
            7
           ],
           "legendgroup": "",
           "marker": {
            "color": [
             0,
             1,
             2,
             3,
             4,
             5,
             6,
             7
            ],
            "coloraxis": "coloraxis",
            "symbol": "circle"
           },
           "mode": "markers",
           "name": "",
           "orientation": "v",
           "showlegend": false,
           "type": "scatter",
           "x": [
            -0.7660444431189779,
            -0.8811195706053616,
            -0.7044160264027587,
            -0.33944435018565994,
            -3.9359389436709944e-17,
            0.11507512748638402,
            -0.06162841671621911,
            -0.4266000929333182
           ],
           "xaxis": "x",
           "y": [
            0,
            -0.3649716762170987,
            -0.7044160264027587,
            -0.8194911538891423,
            -0.6427876096865396,
            -0.2778159334694412,
            0.06162841671621912,
            0.1767035442026032
           ],
           "yaxis": "y"
          }
         ],
         "name": "230.0"
        },
        {
         "data": [
          {
           "hovertemplate": "<b>%{hovertext}</b><br><br>theta=240.0<br>x=%{x}<br>y=%{y}<br>dot_num=%{marker.color}<extra></extra>",
           "hovertext": [
            0,
            1,
            2,
            3,
            4,
            5,
            6,
            7
           ],
           "ids": [
            0,
            1,
            2,
            3,
            4,
            5,
            6,
            7
           ],
           "legendgroup": "",
           "marker": {
            "color": [
             0,
             1,
             2,
             3,
             4,
             5,
             6,
             7
            ],
            "coloraxis": "coloraxis",
            "symbol": "circle"
           },
           "mode": "markers",
           "name": "",
           "orientation": "v",
           "showlegend": false,
           "type": "scatter",
           "x": [
            -0.8660254037844385,
            -0.9159756150367533,
            -0.6830127018922195,
            -0.303603179340959,
            -3.0616169978683855e-17,
            0.04995021125231519,
            -0.18301270189221894,
            -0.5624222244434796
           ],
           "xaxis": "x",
           "y": [
            0,
            -0.3794095225512603,
            -0.6830127018922195,
            -0.7329629131445341,
            -0.5000000000000004,
            -0.12059047744874052,
            0.18301270189221897,
            0.23296291314453418
           ],
           "yaxis": "y"
          }
         ],
         "name": "240.0"
        },
        {
         "data": [
          {
           "hovertemplate": "<b>%{hovertext}</b><br><br>theta=250.0<br>x=%{x}<br>y=%{y}<br>dot_num=%{marker.color}<extra></extra>",
           "hovertext": [
            0,
            1,
            2,
            3,
            4,
            5,
            6,
            7
           ],
           "ids": [
            0,
            1,
            2,
            3,
            4,
            5,
            6,
            7
           ],
           "legendgroup": "",
           "marker": {
            "color": [
             0,
             1,
             2,
             3,
             4,
             5,
             6,
             7
            ],
            "coloraxis": "coloraxis",
            "symbol": "circle"
           },
           "mode": "markers",
           "name": "",
           "orientation": "v",
           "showlegend": false,
           "type": "scatter",
           "x": [
            -0.9396926207859084,
            -0.9230002039112791,
            -0.6408563820557885,
            -0.2585371795226046,
            -2.0942693688384953e-17,
            -0.016692416874629433,
            -0.2988362387301199,
            -0.6811554412633036
           ],
           "xaxis": "x",
           "y": [
            0,
            -0.3823192025331841,
            -0.6408563820557885,
            -0.6241639651811596,
            -0.3420201433256686,
            0.0402990592075159,
            0.29883623873011994,
            0.2821438218554906
           ],
           "yaxis": "y"
          }
         ],
         "name": "250.0"
        },
        {
         "data": [
          {
           "hovertemplate": "<b>%{hovertext}</b><br><br>theta=260.0<br>x=%{x}<br>y=%{y}<br>dot_num=%{marker.color}<extra></extra>",
           "hovertext": [
            0,
            1,
            2,
            3,
            4,
            5,
            6,
            7
           ],
           "ids": [
            0,
            1,
            2,
            3,
            4,
            5,
            6,
            7
           ],
           "legendgroup": "",
           "marker": {
            "color": [
             0,
             1,
             2,
             3,
             4,
             5,
             6,
             7
            ],
            "coloraxis": "coloraxis",
            "symbol": "circle"
           },
           "mode": "markers",
           "name": "",
           "orientation": "v",
           "showlegend": false,
           "type": "scatter",
           "x": [
            -0.984807753012208,
            -0.9019798986505998,
            -0.5792279653395692,
            -0.20561565833058115,
            -1.063288424787886e-17,
            -0.08282785436160828,
            -0.4055797876726388,
            -0.7791920946816268
           ],
           "xaxis": "x",
           "y": [
            0,
            -0.3736123070089882,
            -0.5792279653395692,
            -0.49640011097796144,
            -0.1736481776669304,
            0.19996412934205823,
            0.40557978767263886,
            0.3227519333110307
           ],
           "yaxis": "y"
          }
         ],
         "name": "260.0"
        },
        {
         "data": [
          {
           "hovertemplate": "<b>%{hovertext}</b><br><br>theta=270.0<br>x=%{x}<br>y=%{y}<br>dot_num=%{marker.color}<extra></extra>",
           "hovertext": [
            0,
            1,
            2,
            3,
            4,
            5,
            6,
            7
           ],
           "ids": [
            0,
            1,
            2,
            3,
            4,
            5,
            6,
            7
           ],
           "legendgroup": "",
           "marker": {
            "color": [
             0,
             1,
             2,
             3,
             4,
             5,
             6,
             7
            ],
            "coloraxis": "coloraxis",
            "symbol": "circle"
           },
           "mode": "markers",
           "name": "",
           "orientation": "v",
           "showlegend": false,
           "type": "scatter",
           "x": [
            -1,
            -0.8535533905932736,
            -0.5000000000000001,
            -0.1464466094067265,
            -1.4997597826618576e-32,
            -0.1464466094067263,
            -0.49999999999999983,
            -0.8535533905932735
           ],
           "xaxis": "x",
           "y": [
            0,
            -0.35355339059327373,
            -0.5000000000000001,
            -0.35355339059327434,
            -2.4492935982947064e-16,
            0.3535533905932739,
            0.4999999999999999,
            0.3535533905932738
           ],
           "yaxis": "y"
          }
         ],
         "name": "270.0"
        },
        {
         "data": [
          {
           "hovertemplate": "<b>%{hovertext}</b><br><br>theta=280.0<br>x=%{x}<br>y=%{y}<br>dot_num=%{marker.color}<extra></extra>",
           "hovertext": [
            0,
            1,
            2,
            3,
            4,
            5,
            6,
            7
           ],
           "ids": [
            0,
            1,
            2,
            3,
            4,
            5,
            6,
            7
           ],
           "legendgroup": "",
           "marker": {
            "color": [
             0,
             1,
             2,
             3,
             4,
             5,
             6,
             7
            ],
            "coloraxis": "coloraxis",
            "symbol": "circle"
           },
           "mode": "markers",
           "name": "",
           "orientation": "v",
           "showlegend": false,
           "type": "scatter",
           "x": [
            -0.9848077530122081,
            -0.7791920946816271,
            -0.40557978767263914,
            -0.08282785436160847,
            1.0632884247878832e-17,
            -0.20561565833058093,
            -0.5792279653395689,
            -0.9019798986505997
           ],
           "xaxis": "x",
           "y": [
            0,
            -0.32275193331103075,
            -0.40557978767263914,
            -0.19996412934205865,
            0.17364817766692991,
            0.496400110977961,
            0.579227965339569,
            0.37361230700898823
           ],
           "yaxis": "y"
          }
         ],
         "name": "280.0"
        },
        {
         "data": [
          {
           "hovertemplate": "<b>%{hovertext}</b><br><br>theta=290.0<br>x=%{x}<br>y=%{y}<br>dot_num=%{marker.color}<extra></extra>",
           "hovertext": [
            0,
            1,
            2,
            3,
            4,
            5,
            6,
            7
           ],
           "ids": [
            0,
            1,
            2,
            3,
            4,
            5,
            6,
            7
           ],
           "legendgroup": "",
           "marker": {
            "color": [
             0,
             1,
             2,
             3,
             4,
             5,
             6,
             7
            ],
            "coloraxis": "coloraxis",
            "symbol": "circle"
           },
           "mode": "markers",
           "name": "",
           "orientation": "v",
           "showlegend": false,
           "type": "scatter",
           "x": [
            -0.9396926207859083,
            -0.6811554412633041,
            -0.2988362387301197,
            -0.016692416874628947,
            2.094269368838497e-17,
            -0.2585371795226044,
            -0.6408563820557885,
            -0.9230002039112792
           ],
           "xaxis": "x",
           "y": [
            0,
            -0.2821438218554907,
            -0.2988362387301197,
            -0.04029905920751471,
            0.34202014332566893,
            0.6241639651811592,
            0.6408563820557887,
            0.38231920253318424
           ],
           "yaxis": "y"
          }
         ],
         "name": "290.0"
        },
        {
         "data": [
          {
           "hovertemplate": "<b>%{hovertext}</b><br><br>theta=300.0<br>x=%{x}<br>y=%{y}<br>dot_num=%{marker.color}<extra></extra>",
           "hovertext": [
            0,
            1,
            2,
            3,
            4,
            5,
            6,
            7
           ],
           "ids": [
            0,
            1,
            2,
            3,
            4,
            5,
            6,
            7
           ],
           "legendgroup": "",
           "marker": {
            "color": [
             0,
             1,
             2,
             3,
             4,
             5,
             6,
             7
            ],
            "coloraxis": "coloraxis",
            "symbol": "circle"
           },
           "mode": "markers",
           "name": "",
           "orientation": "v",
           "showlegend": false,
           "type": "scatter",
           "x": [
            -0.8660254037844386,
            -0.56242222444348,
            -0.18301270189221927,
            0.04995021125231501,
            3.061616997868383e-17,
            -0.3036031793409588,
            -0.6830127018922193,
            -0.9159756150367534
           ],
           "xaxis": "x",
           "y": [
            0,
            -0.2329629131445343,
            -0.18301270189221927,
            0.12059047744874006,
            0.5,
            0.7329629131445339,
            0.6830127018922194,
            0.3794095225512605
           ],
           "yaxis": "y"
          }
         ],
         "name": "300.0"
        },
        {
         "data": [
          {
           "hovertemplate": "<b>%{hovertext}</b><br><br>theta=310.0<br>x=%{x}<br>y=%{y}<br>dot_num=%{marker.color}<extra></extra>",
           "hovertext": [
            0,
            1,
            2,
            3,
            4,
            5,
            6,
            7
           ],
           "ids": [
            0,
            1,
            2,
            3,
            4,
            5,
            6,
            7
           ],
           "legendgroup": "",
           "marker": {
            "color": [
             0,
             1,
             2,
             3,
             4,
             5,
             6,
             7
            ],
            "coloraxis": "coloraxis",
            "symbol": "circle"
           },
           "mode": "markers",
           "name": "",
           "orientation": "v",
           "showlegend": false,
           "type": "scatter",
           "x": [
            -0.7660444431189781,
            -0.4266000929333185,
            -0.061628416716219464,
            0.11507512748638388,
            3.9359389436709925e-17,
            -0.33944435018565977,
            -0.7044160264027586,
            -0.8811195706053617
           ],
           "xaxis": "x",
           "y": [
            0,
            -0.17670354420260329,
            -0.061628416716219464,
            0.27781593346944083,
            0.6427876096865393,
            0.8194911538891421,
            0.7044160264027587,
            0.3649716762170988
           ],
           "yaxis": "y"
          }
         ],
         "name": "310.0"
        },
        {
         "data": [
          {
           "hovertemplate": "<b>%{hovertext}</b><br><br>theta=320.0<br>x=%{x}<br>y=%{y}<br>dot_num=%{marker.color}<extra></extra>",
           "hovertext": [
            0,
            1,
            2,
            3,
            4,
            5,
            6,
            7
           ],
           "ids": [
            0,
            1,
            2,
            3,
            4,
            5,
            6,
            7
           ],
           "legendgroup": "",
           "marker": {
            "color": [
             0,
             1,
             2,
             3,
             4,
             5,
             6,
             7
            ],
            "coloraxis": "coloraxis",
            "symbol": "circle"
           },
           "mode": "markers",
           "name": "",
           "orientation": "v",
           "showlegend": false,
           "type": "scatter",
           "x": [
            -0.6427876096865396,
            -0.2778159334694412,
            0.06162841671621912,
            0.17670354420260317,
            4.690669376351364e-17,
            -0.36497167621709864,
            -0.7044160264027586,
            -0.8194911538891424
           ],
           "xaxis": "x",
           "y": [
            0,
            -0.11507512748638403,
            0.06162841671621912,
            0.4266000929333182,
            0.7660444431189778,
            0.8811195706053616,
            0.7044160264027587,
            0.33944435018566005
           ],
           "yaxis": "y"
          }
         ],
         "name": "320.0"
        },
        {
         "data": [
          {
           "hovertemplate": "<b>%{hovertext}</b><br><br>theta=330.0<br>x=%{x}<br>y=%{y}<br>dot_num=%{marker.color}<extra></extra>",
           "hovertext": [
            0,
            1,
            2,
            3,
            4,
            5,
            6,
            7
           ],
           "ids": [
            0,
            1,
            2,
            3,
            4,
            5,
            6,
            7
           ],
           "legendgroup": "",
           "marker": {
            "color": [
             0,
             1,
             2,
             3,
             4,
             5,
             6,
             7
            ],
            "coloraxis": "coloraxis",
            "symbol": "circle"
           },
           "mode": "markers",
           "name": "",
           "orientation": "v",
           "showlegend": false,
           "type": "scatter",
           "x": [
            -0.5000000000000004,
            -0.12059047744874052,
            0.18301270189221897,
            0.23296291314453416,
            5.302876193624533e-17,
            -0.37940952255126026,
            -0.6830127018922194,
            -0.7329629131445342
           ],
           "xaxis": "x",
           "y": [
            0,
            -0.0499502112523152,
            0.18301270189221897,
            0.5624222244434796,
            0.8660254037844384,
            0.9159756150367533,
            0.6830127018922195,
            0.3036031793409591
           ],
           "yaxis": "y"
          }
         ],
         "name": "330.0"
        },
        {
         "data": [
          {
           "hovertemplate": "<b>%{hovertext}</b><br><br>theta=340.0<br>x=%{x}<br>y=%{y}<br>dot_num=%{marker.color}<extra></extra>",
           "hovertext": [
            0,
            1,
            2,
            3,
            4,
            5,
            6,
            7
           ],
           "ids": [
            0,
            1,
            2,
            3,
            4,
            5,
            6,
            7
           ],
           "legendgroup": "",
           "marker": {
            "color": [
             0,
             1,
             2,
             3,
             4,
             5,
             6,
             7
            ],
            "coloraxis": "coloraxis",
            "symbol": "circle"
           },
           "mode": "markers",
           "name": "",
           "orientation": "v",
           "showlegend": false,
           "type": "scatter",
           "x": [
            -0.3420201433256686,
            0.0402990592075159,
            0.29883623873011994,
            0.28214382185549053,
            5.753957801139251e-17,
            -0.382319202533184,
            -0.6408563820557888,
            -0.6241639651811596
           ],
           "xaxis": "x",
           "y": [
            0,
            0.016692416874629436,
            0.29883623873011994,
            0.6811554412633036,
            0.9396926207859084,
            0.9230002039112791,
            0.6408563820557888,
            0.25853717952260463
           ],
           "yaxis": "y"
          }
         ],
         "name": "340.0"
        },
        {
         "data": [
          {
           "hovertemplate": "<b>%{hovertext}</b><br><br>theta=350.0<br>x=%{x}<br>y=%{y}<br>dot_num=%{marker.color}<extra></extra>",
           "hovertext": [
            0,
            1,
            2,
            3,
            4,
            5,
            6,
            7
           ],
           "ids": [
            0,
            1,
            2,
            3,
            4,
            5,
            6,
            7
           ],
           "legendgroup": "",
           "marker": {
            "color": [
             0,
             1,
             2,
             3,
             4,
             5,
             6,
             7
            ],
            "coloraxis": "coloraxis",
            "symbol": "circle"
           },
           "mode": "markers",
           "name": "",
           "orientation": "v",
           "showlegend": false,
           "type": "scatter",
           "x": [
            -0.1736481776669304,
            0.19996412934205823,
            0.40557978767263886,
            0.32275193331103064,
            6.030208312509488e-17,
            -0.3736123070089881,
            -0.5792279653395696,
            -0.4964001109779615
           ],
           "xaxis": "x",
           "y": [
            0,
            0.08282785436160828,
            0.40557978767263886,
            0.7791920946816268,
            0.984807753012208,
            0.9019798986505998,
            0.5792279653395697,
            0.20561565833058124
           ],
           "yaxis": "y"
          }
         ],
         "name": "350.0"
        }
       ],
       "layout": {
        "autosize": false,
        "coloraxis": {
         "colorbar": {
          "title": {
           "text": "dot_num"
          }
         },
         "colorscale": [
          [
           0,
           "#0d0887"
          ],
          [
           0.1111111111111111,
           "#46039f"
          ],
          [
           0.2222222222222222,
           "#7201a8"
          ],
          [
           0.3333333333333333,
           "#9c179e"
          ],
          [
           0.4444444444444444,
           "#bd3786"
          ],
          [
           0.5555555555555556,
           "#d8576b"
          ],
          [
           0.6666666666666666,
           "#ed7953"
          ],
          [
           0.7777777777777778,
           "#fb9f3a"
          ],
          [
           0.8888888888888888,
           "#fdca26"
          ],
          [
           1,
           "#f0f921"
          ]
         ]
        },
        "height": 800,
        "legend": {
         "tracegroupgap": 0
        },
        "margin": {
         "t": 60
        },
        "sliders": [
         {
          "active": 0,
          "currentvalue": {
           "prefix": "theta="
          },
          "len": 0.9,
          "pad": {
           "b": 10,
           "t": 60
          },
          "steps": [
           {
            "args": [
             [
              "0.0"
             ],
             {
              "frame": {
               "duration": 0,
               "redraw": false
              },
              "fromcurrent": true,
              "mode": "immediate",
              "transition": {
               "duration": 0,
               "easing": "linear"
              }
             }
            ],
            "label": "0.0",
            "method": "animate"
           },
           {
            "args": [
             [
              "10.0"
             ],
             {
              "frame": {
               "duration": 0,
               "redraw": false
              },
              "fromcurrent": true,
              "mode": "immediate",
              "transition": {
               "duration": 0,
               "easing": "linear"
              }
             }
            ],
            "label": "10.0",
            "method": "animate"
           },
           {
            "args": [
             [
              "20.0"
             ],
             {
              "frame": {
               "duration": 0,
               "redraw": false
              },
              "fromcurrent": true,
              "mode": "immediate",
              "transition": {
               "duration": 0,
               "easing": "linear"
              }
             }
            ],
            "label": "20.0",
            "method": "animate"
           },
           {
            "args": [
             [
              "30.0"
             ],
             {
              "frame": {
               "duration": 0,
               "redraw": false
              },
              "fromcurrent": true,
              "mode": "immediate",
              "transition": {
               "duration": 0,
               "easing": "linear"
              }
             }
            ],
            "label": "30.0",
            "method": "animate"
           },
           {
            "args": [
             [
              "40.0"
             ],
             {
              "frame": {
               "duration": 0,
               "redraw": false
              },
              "fromcurrent": true,
              "mode": "immediate",
              "transition": {
               "duration": 0,
               "easing": "linear"
              }
             }
            ],
            "label": "40.0",
            "method": "animate"
           },
           {
            "args": [
             [
              "50.0"
             ],
             {
              "frame": {
               "duration": 0,
               "redraw": false
              },
              "fromcurrent": true,
              "mode": "immediate",
              "transition": {
               "duration": 0,
               "easing": "linear"
              }
             }
            ],
            "label": "50.0",
            "method": "animate"
           },
           {
            "args": [
             [
              "60.0"
             ],
             {
              "frame": {
               "duration": 0,
               "redraw": false
              },
              "fromcurrent": true,
              "mode": "immediate",
              "transition": {
               "duration": 0,
               "easing": "linear"
              }
             }
            ],
            "label": "60.0",
            "method": "animate"
           },
           {
            "args": [
             [
              "70.0"
             ],
             {
              "frame": {
               "duration": 0,
               "redraw": false
              },
              "fromcurrent": true,
              "mode": "immediate",
              "transition": {
               "duration": 0,
               "easing": "linear"
              }
             }
            ],
            "label": "70.0",
            "method": "animate"
           },
           {
            "args": [
             [
              "80.0"
             ],
             {
              "frame": {
               "duration": 0,
               "redraw": false
              },
              "fromcurrent": true,
              "mode": "immediate",
              "transition": {
               "duration": 0,
               "easing": "linear"
              }
             }
            ],
            "label": "80.0",
            "method": "animate"
           },
           {
            "args": [
             [
              "90.0"
             ],
             {
              "frame": {
               "duration": 0,
               "redraw": false
              },
              "fromcurrent": true,
              "mode": "immediate",
              "transition": {
               "duration": 0,
               "easing": "linear"
              }
             }
            ],
            "label": "90.0",
            "method": "animate"
           },
           {
            "args": [
             [
              "100.0"
             ],
             {
              "frame": {
               "duration": 0,
               "redraw": false
              },
              "fromcurrent": true,
              "mode": "immediate",
              "transition": {
               "duration": 0,
               "easing": "linear"
              }
             }
            ],
            "label": "100.0",
            "method": "animate"
           },
           {
            "args": [
             [
              "110.0"
             ],
             {
              "frame": {
               "duration": 0,
               "redraw": false
              },
              "fromcurrent": true,
              "mode": "immediate",
              "transition": {
               "duration": 0,
               "easing": "linear"
              }
             }
            ],
            "label": "110.0",
            "method": "animate"
           },
           {
            "args": [
             [
              "120.0"
             ],
             {
              "frame": {
               "duration": 0,
               "redraw": false
              },
              "fromcurrent": true,
              "mode": "immediate",
              "transition": {
               "duration": 0,
               "easing": "linear"
              }
             }
            ],
            "label": "120.0",
            "method": "animate"
           },
           {
            "args": [
             [
              "130.0"
             ],
             {
              "frame": {
               "duration": 0,
               "redraw": false
              },
              "fromcurrent": true,
              "mode": "immediate",
              "transition": {
               "duration": 0,
               "easing": "linear"
              }
             }
            ],
            "label": "130.0",
            "method": "animate"
           },
           {
            "args": [
             [
              "140.0"
             ],
             {
              "frame": {
               "duration": 0,
               "redraw": false
              },
              "fromcurrent": true,
              "mode": "immediate",
              "transition": {
               "duration": 0,
               "easing": "linear"
              }
             }
            ],
            "label": "140.0",
            "method": "animate"
           },
           {
            "args": [
             [
              "150.0"
             ],
             {
              "frame": {
               "duration": 0,
               "redraw": false
              },
              "fromcurrent": true,
              "mode": "immediate",
              "transition": {
               "duration": 0,
               "easing": "linear"
              }
             }
            ],
            "label": "150.0",
            "method": "animate"
           },
           {
            "args": [
             [
              "160.0"
             ],
             {
              "frame": {
               "duration": 0,
               "redraw": false
              },
              "fromcurrent": true,
              "mode": "immediate",
              "transition": {
               "duration": 0,
               "easing": "linear"
              }
             }
            ],
            "label": "160.0",
            "method": "animate"
           },
           {
            "args": [
             [
              "170.0"
             ],
             {
              "frame": {
               "duration": 0,
               "redraw": false
              },
              "fromcurrent": true,
              "mode": "immediate",
              "transition": {
               "duration": 0,
               "easing": "linear"
              }
             }
            ],
            "label": "170.0",
            "method": "animate"
           },
           {
            "args": [
             [
              "180.0"
             ],
             {
              "frame": {
               "duration": 0,
               "redraw": false
              },
              "fromcurrent": true,
              "mode": "immediate",
              "transition": {
               "duration": 0,
               "easing": "linear"
              }
             }
            ],
            "label": "180.0",
            "method": "animate"
           },
           {
            "args": [
             [
              "190.0"
             ],
             {
              "frame": {
               "duration": 0,
               "redraw": false
              },
              "fromcurrent": true,
              "mode": "immediate",
              "transition": {
               "duration": 0,
               "easing": "linear"
              }
             }
            ],
            "label": "190.0",
            "method": "animate"
           },
           {
            "args": [
             [
              "200.0"
             ],
             {
              "frame": {
               "duration": 0,
               "redraw": false
              },
              "fromcurrent": true,
              "mode": "immediate",
              "transition": {
               "duration": 0,
               "easing": "linear"
              }
             }
            ],
            "label": "200.0",
            "method": "animate"
           },
           {
            "args": [
             [
              "210.0"
             ],
             {
              "frame": {
               "duration": 0,
               "redraw": false
              },
              "fromcurrent": true,
              "mode": "immediate",
              "transition": {
               "duration": 0,
               "easing": "linear"
              }
             }
            ],
            "label": "210.0",
            "method": "animate"
           },
           {
            "args": [
             [
              "220.0"
             ],
             {
              "frame": {
               "duration": 0,
               "redraw": false
              },
              "fromcurrent": true,
              "mode": "immediate",
              "transition": {
               "duration": 0,
               "easing": "linear"
              }
             }
            ],
            "label": "220.0",
            "method": "animate"
           },
           {
            "args": [
             [
              "230.0"
             ],
             {
              "frame": {
               "duration": 0,
               "redraw": false
              },
              "fromcurrent": true,
              "mode": "immediate",
              "transition": {
               "duration": 0,
               "easing": "linear"
              }
             }
            ],
            "label": "230.0",
            "method": "animate"
           },
           {
            "args": [
             [
              "240.0"
             ],
             {
              "frame": {
               "duration": 0,
               "redraw": false
              },
              "fromcurrent": true,
              "mode": "immediate",
              "transition": {
               "duration": 0,
               "easing": "linear"
              }
             }
            ],
            "label": "240.0",
            "method": "animate"
           },
           {
            "args": [
             [
              "250.0"
             ],
             {
              "frame": {
               "duration": 0,
               "redraw": false
              },
              "fromcurrent": true,
              "mode": "immediate",
              "transition": {
               "duration": 0,
               "easing": "linear"
              }
             }
            ],
            "label": "250.0",
            "method": "animate"
           },
           {
            "args": [
             [
              "260.0"
             ],
             {
              "frame": {
               "duration": 0,
               "redraw": false
              },
              "fromcurrent": true,
              "mode": "immediate",
              "transition": {
               "duration": 0,
               "easing": "linear"
              }
             }
            ],
            "label": "260.0",
            "method": "animate"
           },
           {
            "args": [
             [
              "270.0"
             ],
             {
              "frame": {
               "duration": 0,
               "redraw": false
              },
              "fromcurrent": true,
              "mode": "immediate",
              "transition": {
               "duration": 0,
               "easing": "linear"
              }
             }
            ],
            "label": "270.0",
            "method": "animate"
           },
           {
            "args": [
             [
              "280.0"
             ],
             {
              "frame": {
               "duration": 0,
               "redraw": false
              },
              "fromcurrent": true,
              "mode": "immediate",
              "transition": {
               "duration": 0,
               "easing": "linear"
              }
             }
            ],
            "label": "280.0",
            "method": "animate"
           },
           {
            "args": [
             [
              "290.0"
             ],
             {
              "frame": {
               "duration": 0,
               "redraw": false
              },
              "fromcurrent": true,
              "mode": "immediate",
              "transition": {
               "duration": 0,
               "easing": "linear"
              }
             }
            ],
            "label": "290.0",
            "method": "animate"
           },
           {
            "args": [
             [
              "300.0"
             ],
             {
              "frame": {
               "duration": 0,
               "redraw": false
              },
              "fromcurrent": true,
              "mode": "immediate",
              "transition": {
               "duration": 0,
               "easing": "linear"
              }
             }
            ],
            "label": "300.0",
            "method": "animate"
           },
           {
            "args": [
             [
              "310.0"
             ],
             {
              "frame": {
               "duration": 0,
               "redraw": false
              },
              "fromcurrent": true,
              "mode": "immediate",
              "transition": {
               "duration": 0,
               "easing": "linear"
              }
             }
            ],
            "label": "310.0",
            "method": "animate"
           },
           {
            "args": [
             [
              "320.0"
             ],
             {
              "frame": {
               "duration": 0,
               "redraw": false
              },
              "fromcurrent": true,
              "mode": "immediate",
              "transition": {
               "duration": 0,
               "easing": "linear"
              }
             }
            ],
            "label": "320.0",
            "method": "animate"
           },
           {
            "args": [
             [
              "330.0"
             ],
             {
              "frame": {
               "duration": 0,
               "redraw": false
              },
              "fromcurrent": true,
              "mode": "immediate",
              "transition": {
               "duration": 0,
               "easing": "linear"
              }
             }
            ],
            "label": "330.0",
            "method": "animate"
           },
           {
            "args": [
             [
              "340.0"
             ],
             {
              "frame": {
               "duration": 0,
               "redraw": false
              },
              "fromcurrent": true,
              "mode": "immediate",
              "transition": {
               "duration": 0,
               "easing": "linear"
              }
             }
            ],
            "label": "340.0",
            "method": "animate"
           },
           {
            "args": [
             [
              "350.0"
             ],
             {
              "frame": {
               "duration": 0,
               "redraw": false
              },
              "fromcurrent": true,
              "mode": "immediate",
              "transition": {
               "duration": 0,
               "easing": "linear"
              }
             }
            ],
            "label": "350.0",
            "method": "animate"
           }
          ],
          "x": 0.1,
          "xanchor": "left",
          "y": 0,
          "yanchor": "top"
         }
        ],
        "template": {
         "data": {
          "bar": [
           {
            "error_x": {
             "color": "#2a3f5f"
            },
            "error_y": {
             "color": "#2a3f5f"
            },
            "marker": {
             "line": {
              "color": "#E5ECF6",
              "width": 0.5
             },
             "pattern": {
              "fillmode": "overlay",
              "size": 10,
              "solidity": 0.2
             }
            },
            "type": "bar"
           }
          ],
          "barpolar": [
           {
            "marker": {
             "line": {
              "color": "#E5ECF6",
              "width": 0.5
             },
             "pattern": {
              "fillmode": "overlay",
              "size": 10,
              "solidity": 0.2
             }
            },
            "type": "barpolar"
           }
          ],
          "carpet": [
           {
            "aaxis": {
             "endlinecolor": "#2a3f5f",
             "gridcolor": "white",
             "linecolor": "white",
             "minorgridcolor": "white",
             "startlinecolor": "#2a3f5f"
            },
            "baxis": {
             "endlinecolor": "#2a3f5f",
             "gridcolor": "white",
             "linecolor": "white",
             "minorgridcolor": "white",
             "startlinecolor": "#2a3f5f"
            },
            "type": "carpet"
           }
          ],
          "choropleth": [
           {
            "colorbar": {
             "outlinewidth": 0,
             "ticks": ""
            },
            "type": "choropleth"
           }
          ],
          "contour": [
           {
            "colorbar": {
             "outlinewidth": 0,
             "ticks": ""
            },
            "colorscale": [
             [
              0,
              "#0d0887"
             ],
             [
              0.1111111111111111,
              "#46039f"
             ],
             [
              0.2222222222222222,
              "#7201a8"
             ],
             [
              0.3333333333333333,
              "#9c179e"
             ],
             [
              0.4444444444444444,
              "#bd3786"
             ],
             [
              0.5555555555555556,
              "#d8576b"
             ],
             [
              0.6666666666666666,
              "#ed7953"
             ],
             [
              0.7777777777777778,
              "#fb9f3a"
             ],
             [
              0.8888888888888888,
              "#fdca26"
             ],
             [
              1,
              "#f0f921"
             ]
            ],
            "type": "contour"
           }
          ],
          "contourcarpet": [
           {
            "colorbar": {
             "outlinewidth": 0,
             "ticks": ""
            },
            "type": "contourcarpet"
           }
          ],
          "heatmap": [
           {
            "colorbar": {
             "outlinewidth": 0,
             "ticks": ""
            },
            "colorscale": [
             [
              0,
              "#0d0887"
             ],
             [
              0.1111111111111111,
              "#46039f"
             ],
             [
              0.2222222222222222,
              "#7201a8"
             ],
             [
              0.3333333333333333,
              "#9c179e"
             ],
             [
              0.4444444444444444,
              "#bd3786"
             ],
             [
              0.5555555555555556,
              "#d8576b"
             ],
             [
              0.6666666666666666,
              "#ed7953"
             ],
             [
              0.7777777777777778,
              "#fb9f3a"
             ],
             [
              0.8888888888888888,
              "#fdca26"
             ],
             [
              1,
              "#f0f921"
             ]
            ],
            "type": "heatmap"
           }
          ],
          "heatmapgl": [
           {
            "colorbar": {
             "outlinewidth": 0,
             "ticks": ""
            },
            "colorscale": [
             [
              0,
              "#0d0887"
             ],
             [
              0.1111111111111111,
              "#46039f"
             ],
             [
              0.2222222222222222,
              "#7201a8"
             ],
             [
              0.3333333333333333,
              "#9c179e"
             ],
             [
              0.4444444444444444,
              "#bd3786"
             ],
             [
              0.5555555555555556,
              "#d8576b"
             ],
             [
              0.6666666666666666,
              "#ed7953"
             ],
             [
              0.7777777777777778,
              "#fb9f3a"
             ],
             [
              0.8888888888888888,
              "#fdca26"
             ],
             [
              1,
              "#f0f921"
             ]
            ],
            "type": "heatmapgl"
           }
          ],
          "histogram": [
           {
            "marker": {
             "pattern": {
              "fillmode": "overlay",
              "size": 10,
              "solidity": 0.2
             }
            },
            "type": "histogram"
           }
          ],
          "histogram2d": [
           {
            "colorbar": {
             "outlinewidth": 0,
             "ticks": ""
            },
            "colorscale": [
             [
              0,
              "#0d0887"
             ],
             [
              0.1111111111111111,
              "#46039f"
             ],
             [
              0.2222222222222222,
              "#7201a8"
             ],
             [
              0.3333333333333333,
              "#9c179e"
             ],
             [
              0.4444444444444444,
              "#bd3786"
             ],
             [
              0.5555555555555556,
              "#d8576b"
             ],
             [
              0.6666666666666666,
              "#ed7953"
             ],
             [
              0.7777777777777778,
              "#fb9f3a"
             ],
             [
              0.8888888888888888,
              "#fdca26"
             ],
             [
              1,
              "#f0f921"
             ]
            ],
            "type": "histogram2d"
           }
          ],
          "histogram2dcontour": [
           {
            "colorbar": {
             "outlinewidth": 0,
             "ticks": ""
            },
            "colorscale": [
             [
              0,
              "#0d0887"
             ],
             [
              0.1111111111111111,
              "#46039f"
             ],
             [
              0.2222222222222222,
              "#7201a8"
             ],
             [
              0.3333333333333333,
              "#9c179e"
             ],
             [
              0.4444444444444444,
              "#bd3786"
             ],
             [
              0.5555555555555556,
              "#d8576b"
             ],
             [
              0.6666666666666666,
              "#ed7953"
             ],
             [
              0.7777777777777778,
              "#fb9f3a"
             ],
             [
              0.8888888888888888,
              "#fdca26"
             ],
             [
              1,
              "#f0f921"
             ]
            ],
            "type": "histogram2dcontour"
           }
          ],
          "mesh3d": [
           {
            "colorbar": {
             "outlinewidth": 0,
             "ticks": ""
            },
            "type": "mesh3d"
           }
          ],
          "parcoords": [
           {
            "line": {
             "colorbar": {
              "outlinewidth": 0,
              "ticks": ""
             }
            },
            "type": "parcoords"
           }
          ],
          "pie": [
           {
            "automargin": true,
            "type": "pie"
           }
          ],
          "scatter": [
           {
            "fillpattern": {
             "fillmode": "overlay",
             "size": 10,
             "solidity": 0.2
            },
            "type": "scatter"
           }
          ],
          "scatter3d": [
           {
            "line": {
             "colorbar": {
              "outlinewidth": 0,
              "ticks": ""
             }
            },
            "marker": {
             "colorbar": {
              "outlinewidth": 0,
              "ticks": ""
             }
            },
            "type": "scatter3d"
           }
          ],
          "scattercarpet": [
           {
            "marker": {
             "colorbar": {
              "outlinewidth": 0,
              "ticks": ""
             }
            },
            "type": "scattercarpet"
           }
          ],
          "scattergeo": [
           {
            "marker": {
             "colorbar": {
              "outlinewidth": 0,
              "ticks": ""
             }
            },
            "type": "scattergeo"
           }
          ],
          "scattergl": [
           {
            "marker": {
             "colorbar": {
              "outlinewidth": 0,
              "ticks": ""
             }
            },
            "type": "scattergl"
           }
          ],
          "scattermapbox": [
           {
            "marker": {
             "colorbar": {
              "outlinewidth": 0,
              "ticks": ""
             }
            },
            "type": "scattermapbox"
           }
          ],
          "scatterpolar": [
           {
            "marker": {
             "colorbar": {
              "outlinewidth": 0,
              "ticks": ""
             }
            },
            "type": "scatterpolar"
           }
          ],
          "scatterpolargl": [
           {
            "marker": {
             "colorbar": {
              "outlinewidth": 0,
              "ticks": ""
             }
            },
            "type": "scatterpolargl"
           }
          ],
          "scatterternary": [
           {
            "marker": {
             "colorbar": {
              "outlinewidth": 0,
              "ticks": ""
             }
            },
            "type": "scatterternary"
           }
          ],
          "surface": [
           {
            "colorbar": {
             "outlinewidth": 0,
             "ticks": ""
            },
            "colorscale": [
             [
              0,
              "#0d0887"
             ],
             [
              0.1111111111111111,
              "#46039f"
             ],
             [
              0.2222222222222222,
              "#7201a8"
             ],
             [
              0.3333333333333333,
              "#9c179e"
             ],
             [
              0.4444444444444444,
              "#bd3786"
             ],
             [
              0.5555555555555556,
              "#d8576b"
             ],
             [
              0.6666666666666666,
              "#ed7953"
             ],
             [
              0.7777777777777778,
              "#fb9f3a"
             ],
             [
              0.8888888888888888,
              "#fdca26"
             ],
             [
              1,
              "#f0f921"
             ]
            ],
            "type": "surface"
           }
          ],
          "table": [
           {
            "cells": {
             "fill": {
              "color": "#EBF0F8"
             },
             "line": {
              "color": "white"
             }
            },
            "header": {
             "fill": {
              "color": "#C8D4E3"
             },
             "line": {
              "color": "white"
             }
            },
            "type": "table"
           }
          ]
         },
         "layout": {
          "annotationdefaults": {
           "arrowcolor": "#2a3f5f",
           "arrowhead": 0,
           "arrowwidth": 1
          },
          "autotypenumbers": "strict",
          "coloraxis": {
           "colorbar": {
            "outlinewidth": 0,
            "ticks": ""
           }
          },
          "colorscale": {
           "diverging": [
            [
             0,
             "#8e0152"
            ],
            [
             0.1,
             "#c51b7d"
            ],
            [
             0.2,
             "#de77ae"
            ],
            [
             0.3,
             "#f1b6da"
            ],
            [
             0.4,
             "#fde0ef"
            ],
            [
             0.5,
             "#f7f7f7"
            ],
            [
             0.6,
             "#e6f5d0"
            ],
            [
             0.7,
             "#b8e186"
            ],
            [
             0.8,
             "#7fbc41"
            ],
            [
             0.9,
             "#4d9221"
            ],
            [
             1,
             "#276419"
            ]
           ],
           "sequential": [
            [
             0,
             "#0d0887"
            ],
            [
             0.1111111111111111,
             "#46039f"
            ],
            [
             0.2222222222222222,
             "#7201a8"
            ],
            [
             0.3333333333333333,
             "#9c179e"
            ],
            [
             0.4444444444444444,
             "#bd3786"
            ],
            [
             0.5555555555555556,
             "#d8576b"
            ],
            [
             0.6666666666666666,
             "#ed7953"
            ],
            [
             0.7777777777777778,
             "#fb9f3a"
            ],
            [
             0.8888888888888888,
             "#fdca26"
            ],
            [
             1,
             "#f0f921"
            ]
           ],
           "sequentialminus": [
            [
             0,
             "#0d0887"
            ],
            [
             0.1111111111111111,
             "#46039f"
            ],
            [
             0.2222222222222222,
             "#7201a8"
            ],
            [
             0.3333333333333333,
             "#9c179e"
            ],
            [
             0.4444444444444444,
             "#bd3786"
            ],
            [
             0.5555555555555556,
             "#d8576b"
            ],
            [
             0.6666666666666666,
             "#ed7953"
            ],
            [
             0.7777777777777778,
             "#fb9f3a"
            ],
            [
             0.8888888888888888,
             "#fdca26"
            ],
            [
             1,
             "#f0f921"
            ]
           ]
          },
          "colorway": [
           "#636efa",
           "#EF553B",
           "#00cc96",
           "#ab63fa",
           "#FFA15A",
           "#19d3f3",
           "#FF6692",
           "#B6E880",
           "#FF97FF",
           "#FECB52"
          ],
          "font": {
           "color": "#2a3f5f"
          },
          "geo": {
           "bgcolor": "white",
           "lakecolor": "white",
           "landcolor": "#E5ECF6",
           "showlakes": true,
           "showland": true,
           "subunitcolor": "white"
          },
          "hoverlabel": {
           "align": "left"
          },
          "hovermode": "closest",
          "mapbox": {
           "style": "light"
          },
          "paper_bgcolor": "white",
          "plot_bgcolor": "#E5ECF6",
          "polar": {
           "angularaxis": {
            "gridcolor": "white",
            "linecolor": "white",
            "ticks": ""
           },
           "bgcolor": "#E5ECF6",
           "radialaxis": {
            "gridcolor": "white",
            "linecolor": "white",
            "ticks": ""
           }
          },
          "scene": {
           "xaxis": {
            "backgroundcolor": "#E5ECF6",
            "gridcolor": "white",
            "gridwidth": 2,
            "linecolor": "white",
            "showbackground": true,
            "ticks": "",
            "zerolinecolor": "white"
           },
           "yaxis": {
            "backgroundcolor": "#E5ECF6",
            "gridcolor": "white",
            "gridwidth": 2,
            "linecolor": "white",
            "showbackground": true,
            "ticks": "",
            "zerolinecolor": "white"
           },
           "zaxis": {
            "backgroundcolor": "#E5ECF6",
            "gridcolor": "white",
            "gridwidth": 2,
            "linecolor": "white",
            "showbackground": true,
            "ticks": "",
            "zerolinecolor": "white"
           }
          },
          "shapedefaults": {
           "line": {
            "color": "#2a3f5f"
           }
          },
          "ternary": {
           "aaxis": {
            "gridcolor": "white",
            "linecolor": "white",
            "ticks": ""
           },
           "baxis": {
            "gridcolor": "white",
            "linecolor": "white",
            "ticks": ""
           },
           "bgcolor": "#E5ECF6",
           "caxis": {
            "gridcolor": "white",
            "linecolor": "white",
            "ticks": ""
           }
          },
          "title": {
           "x": 0.05
          },
          "xaxis": {
           "automargin": true,
           "gridcolor": "white",
           "linecolor": "white",
           "ticks": "",
           "title": {
            "standoff": 15
           },
           "zerolinecolor": "white",
           "zerolinewidth": 2
          },
          "yaxis": {
           "automargin": true,
           "gridcolor": "white",
           "linecolor": "white",
           "ticks": "",
           "title": {
            "standoff": 15
           },
           "zerolinecolor": "white",
           "zerolinewidth": 2
          }
         }
        },
        "updatemenus": [
         {
          "buttons": [
           {
            "args": [
             null,
             {
              "frame": {
               "duration": 500,
               "redraw": false
              },
              "fromcurrent": true,
              "mode": "immediate",
              "transition": {
               "duration": 500,
               "easing": "linear"
              }
             }
            ],
            "label": "&#9654;",
            "method": "animate"
           },
           {
            "args": [
             [
              null
             ],
             {
              "frame": {
               "duration": 0,
               "redraw": false
              },
              "fromcurrent": true,
              "mode": "immediate",
              "transition": {
               "duration": 0,
               "easing": "linear"
              }
             }
            ],
            "label": "&#9724;",
            "method": "animate"
           }
          ],
          "direction": "left",
          "pad": {
           "r": 10,
           "t": 70
          },
          "showactive": false,
          "type": "buttons",
          "x": 0.1,
          "xanchor": "right",
          "y": 0,
          "yanchor": "top"
         }
        ],
        "width": 800,
        "xaxis": {
         "anchor": "y",
         "domain": [
          0,
          1
         ],
         "range": [
          -1.1,
          1.1
         ],
         "title": {
          "text": "x"
         }
        },
        "yaxis": {
         "anchor": "x",
         "domain": [
          0,
          1
         ],
         "range": [
          -1.1,
          1.1
         ],
         "title": {
          "text": "y"
         }
        }
       }
      }
     },
     "metadata": {},
     "output_type": "display_data"
    }
   ],
   "source": [
    "\n",
    "# Parameters\n",
    "radius = 1\n",
    "num_dots = 8\n",
    "num_steps = 36\n",
    "\n",
    "# Intermediate variables\n",
    "dot_radial_delta = 180 / num_dots\n",
    "delta = 360 / num_steps\n",
    "\n",
    "dot_nums = np.array([e for e in range(num_dots)])\n",
    "\n",
    "steps = np.array([e for e in range(num_steps)])\n",
    "thetas = steps * delta\n",
    "\n",
    "# Generate point data\n",
    "a = np.array([[0, 0, 0, 0]])\n",
    "for d in dot_nums:\n",
    "    dot_theta = math.radians(d * dot_radial_delta)\n",
    "    dot_ux = radius * math.cos(dot_theta)\n",
    "    dot_uy = radius * math.sin(dot_theta)\n",
    "    for t in thetas:\n",
    "        phi = math.sin(math.radians(t) + dot_theta)\n",
    "        x = dot_ux * phi\n",
    "        y = dot_uy * phi\n",
    "        a = np.append(a, [[d, t, x, y]], axis=0)\n",
    "a = np.delete(a, (0), axis=0)  # delete first row\n",
    "\n",
    "# Create dataframe\n",
    "columns = ['dot_num', 'theta', 'x', 'y']\n",
    "df = pd.DataFrame(data=a, columns=columns)\n",
    "\n",
    "# Plot\n",
    "fig = px.scatter(df, x=\"x\", y=\"y\",\n",
    "                 animation_frame=\"theta\", animation_group=\"dot_num\",\n",
    "                 color=\"dot_num\", hover_name=\"dot_num\",\n",
    "                 range_x=[-1.1, 1.1], range_y=[-1.1, 1.1])\n",
    "fig.update_layout(autosize=False, width=800, height=800)\n",
    "fig.show()"
   ]
  },
  {
   "cell_type": "markdown",
   "metadata": {},
   "source": [
    "## Using Numpy array operations to generate data points"
   ]
  },
  {
   "cell_type": "code",
   "execution_count": null,
   "metadata": {},
   "outputs": [],
   "source": [
    "import numpy as np\n",
    "import plotly.express as px\n",
    "import pandas as pd"
   ]
  },
  {
   "cell_type": "code",
   "execution_count": 8,
   "metadata": {},
   "outputs": [
    {
     "data": {
      "application/vnd.plotly.v1+json": {
       "config": {
        "plotlyServerURL": "https://plot.ly"
       },
       "data": [
        {
         "hovertemplate": "<b>%{hovertext}</b><br><br>theta=0.0<br>x=%{x}<br>y=%{y}<br>dot_num=%{marker.color}<extra></extra>",
         "hovertext": [
          0,
          1,
          2,
          3,
          4,
          5,
          6,
          7
         ],
         "ids": [
          0,
          1,
          2,
          3,
          4,
          5,
          6,
          7
         ],
         "legendgroup": "",
         "marker": {
          "color": [
           0,
           1,
           2,
           3,
           4,
           5,
           6,
           7
          ],
          "coloraxis": "coloraxis",
          "symbol": "circle"
         },
         "mode": "markers",
         "name": "",
         "orientation": "v",
         "showlegend": false,
         "type": "scatter",
         "x": [
          0,
          0.3535533905932738,
          0.5000000000000001,
          0.35355339059327384,
          6.123233995736766e-17,
          -0.35355339059327373,
          -0.5,
          -0.35355339059327384
         ],
         "xaxis": "x",
         "y": [
          0,
          0.14644660940672624,
          0.5000000000000001,
          0.8535533905932737,
          1,
          0.8535533905932737,
          0.5000000000000001,
          0.14644660940672632
         ],
         "yaxis": "y"
        }
       ],
       "frames": [
        {
         "data": [
          {
           "hovertemplate": "<b>%{hovertext}</b><br><br>theta=0.0<br>x=%{x}<br>y=%{y}<br>dot_num=%{marker.color}<extra></extra>",
           "hovertext": [
            0,
            1,
            2,
            3,
            4,
            5,
            6,
            7
           ],
           "ids": [
            0,
            1,
            2,
            3,
            4,
            5,
            6,
            7
           ],
           "legendgroup": "",
           "marker": {
            "color": [
             0,
             1,
             2,
             3,
             4,
             5,
             6,
             7
            ],
            "coloraxis": "coloraxis",
            "symbol": "circle"
           },
           "mode": "markers",
           "name": "",
           "orientation": "v",
           "showlegend": false,
           "type": "scatter",
           "x": [
            0,
            0.3535533905932738,
            0.5000000000000001,
            0.35355339059327384,
            6.123233995736766e-17,
            -0.35355339059327373,
            -0.5,
            -0.35355339059327384
           ],
           "xaxis": "x",
           "y": [
            0,
            0.14644660940672624,
            0.5000000000000001,
            0.8535533905932737,
            1,
            0.8535533905932737,
            0.5000000000000001,
            0.14644660940672632
           ],
           "yaxis": "y"
          }
         ],
         "name": "0.0"
        },
        {
         "data": [
          {
           "hovertemplate": "<b>%{hovertext}</b><br><br>theta=10.0<br>x=%{x}<br>y=%{y}<br>dot_num=%{marker.color}<extra></extra>",
           "hovertext": [
            0,
            1,
            2,
            3,
            4,
            5,
            6,
            7
           ],
           "ids": [
            0,
            1,
            2,
            3,
            4,
            5,
            6,
            7
           ],
           "legendgroup": "",
           "marker": {
            "color": [
             0,
             1,
             2,
             3,
             4,
             5,
             6,
             7
            ],
            "coloraxis": "coloraxis",
            "symbol": "circle"
           },
           "mode": "markers",
           "name": "",
           "orientation": "v",
           "showlegend": false,
           "type": "scatter",
           "x": [
            0.17364817766693033,
            0.496400110977961,
            0.5792279653395692,
            0.3736123070089883,
            6.030208312509488e-17,
            -0.32275193331103075,
            -0.405579787672639,
            -0.19996412934205815
           ],
           "xaxis": "x",
           "y": [
            0,
            0.20561565833058096,
            0.5792279653395692,
            0.9019798986505999,
            0.984807753012208,
            0.7791920946816272,
            0.4055797876726391,
            0.08282785436160828
           ],
           "yaxis": "y"
          }
         ],
         "name": "10.0"
        },
        {
         "data": [
          {
           "hovertemplate": "<b>%{hovertext}</b><br><br>theta=20.0<br>x=%{x}<br>y=%{y}<br>dot_num=%{marker.color}<extra></extra>",
           "hovertext": [
            0,
            1,
            2,
            3,
            4,
            5,
            6,
            7
           ],
           "ids": [
            0,
            1,
            2,
            3,
            4,
            5,
            6,
            7
           ],
           "legendgroup": "",
           "marker": {
            "color": [
             0,
             1,
             2,
             3,
             4,
             5,
             6,
             7
            ],
            "coloraxis": "coloraxis",
            "symbol": "circle"
           },
           "mode": "markers",
           "name": "",
           "orientation": "v",
           "showlegend": false,
           "type": "scatter",
           "x": [
            0.3420201433256687,
            0.6241639651811594,
            0.6408563820557885,
            0.3823192025331842,
            5.753957801139251e-17,
            -0.2821438218554906,
            -0.29883623873011983,
            -0.04029905920751541
           ],
           "xaxis": "x",
           "y": [
            0,
            0.25853717952260447,
            0.6408563820557885,
            0.9230002039112792,
            0.9396926207859084,
            0.681155441263304,
            0.2988362387301199,
            0.016692416874629242
           ],
           "yaxis": "y"
          }
         ],
         "name": "20.0"
        },
        {
         "data": [
          {
           "hovertemplate": "<b>%{hovertext}</b><br><br>theta=30.0<br>x=%{x}<br>y=%{y}<br>dot_num=%{marker.color}<extra></extra>",
           "hovertext": [
            0,
            1,
            2,
            3,
            4,
            5,
            6,
            7
           ],
           "ids": [
            0,
            1,
            2,
            3,
            4,
            5,
            6,
            7
           ],
           "legendgroup": "",
           "marker": {
            "color": [
             0,
             1,
             2,
             3,
             4,
             5,
             6,
             7
            ],
            "coloraxis": "coloraxis",
            "symbol": "circle"
           },
           "mode": "markers",
           "name": "",
           "orientation": "v",
           "showlegend": false,
           "type": "scatter",
           "x": [
            0.49999999999999994,
            0.7329629131445341,
            0.6830127018922193,
            0.3794095225512605,
            5.3028761936245346e-17,
            -0.2329629131445342,
            -0.1830127018922195,
            0.12059047744873937
           ],
           "xaxis": "x",
           "y": [
            0,
            0.30360317934095893,
            0.6830127018922193,
            0.9159756150367535,
            0.8660254037844387,
            0.5624222244434799,
            0.18301270189221952,
            -0.04995021125231473
           ],
           "yaxis": "y"
          }
         ],
         "name": "30.0"
        },
        {
         "data": [
          {
           "hovertemplate": "<b>%{hovertext}</b><br><br>theta=40.0<br>x=%{x}<br>y=%{y}<br>dot_num=%{marker.color}<extra></extra>",
           "hovertext": [
            0,
            1,
            2,
            3,
            4,
            5,
            6,
            7
           ],
           "ids": [
            0,
            1,
            2,
            3,
            4,
            5,
            6,
            7
           ],
           "legendgroup": "",
           "marker": {
            "color": [
             0,
             1,
             2,
             3,
             4,
             5,
             6,
             7
            ],
            "coloraxis": "coloraxis",
            "symbol": "circle"
           },
           "mode": "markers",
           "name": "",
           "orientation": "v",
           "showlegend": false,
           "type": "scatter",
           "x": [
            0.6427876096865393,
            0.8194911538891424,
            0.7044160264027587,
            0.3649716762170988,
            4.6906693763513654e-17,
            -0.17670354420260306,
            -0.06162841671621936,
            0.2778159334694405
           ],
           "xaxis": "x",
           "y": [
            0,
            0.33944435018565994,
            0.7044160264027587,
            0.8811195706053617,
            0.766044443118978,
            0.4266000929333181,
            0.061628416716219374,
            -0.11507512748638377
           ],
           "yaxis": "y"
          }
         ],
         "name": "40.0"
        },
        {
         "data": [
          {
           "hovertemplate": "<b>%{hovertext}</b><br><br>theta=50.0<br>x=%{x}<br>y=%{y}<br>dot_num=%{marker.color}<extra></extra>",
           "hovertext": [
            0,
            1,
            2,
            3,
            4,
            5,
            6,
            7
           ],
           "ids": [
            0,
            1,
            2,
            3,
            4,
            5,
            6,
            7
           ],
           "legendgroup": "",
           "marker": {
            "color": [
             0,
             1,
             2,
             3,
             4,
             5,
             6,
             7
            ],
            "coloraxis": "coloraxis",
            "symbol": "circle"
           },
           "mode": "markers",
           "name": "",
           "orientation": "v",
           "showlegend": false,
           "type": "scatter",
           "x": [
            0.766044443118978,
            0.8811195706053617,
            0.7044160264027587,
            0.33944435018566005,
            3.935938943670994e-17,
            -0.11507512748638382,
            0.061628416716219186,
            0.42660009293331785
           ],
           "xaxis": "x",
           "y": [
            0,
            0.3649716762170987,
            0.7044160264027587,
            0.8194911538891425,
            0.6427876096865395,
            0.2778159334694408,
            -0.06162841671621919,
            -0.17670354420260306
           ],
           "yaxis": "y"
          }
         ],
         "name": "50.0"
        },
        {
         "data": [
          {
           "hovertemplate": "<b>%{hovertext}</b><br><br>theta=60.0<br>x=%{x}<br>y=%{y}<br>dot_num=%{marker.color}<extra></extra>",
           "hovertext": [
            0,
            1,
            2,
            3,
            4,
            5,
            6,
            7
           ],
           "ids": [
            0,
            1,
            2,
            3,
            4,
            5,
            6,
            7
           ],
           "legendgroup": "",
           "marker": {
            "color": [
             0,
             1,
             2,
             3,
             4,
             5,
             6,
             7
            ],
            "coloraxis": "coloraxis",
            "symbol": "circle"
           },
           "mode": "markers",
           "name": "",
           "orientation": "v",
           "showlegend": false,
           "type": "scatter",
           "x": [
            0.8660254037844386,
            0.9159756150367534,
            0.6830127018922194,
            0.303603179340959,
            3.061616997868385e-17,
            -0.04995021125231481,
            0.18301270189221902,
            0.5624222244434797
           ],
           "xaxis": "x",
           "y": [
            0,
            0.37940952255126037,
            0.6830127018922194,
            0.7329629131445341,
            0.5000000000000003,
            0.1205904774487396,
            -0.18301270189221905,
            -0.2329629131445342
           ],
           "yaxis": "y"
          }
         ],
         "name": "60.0"
        },
        {
         "data": [
          {
           "hovertemplate": "<b>%{hovertext}</b><br><br>theta=70.0<br>x=%{x}<br>y=%{y}<br>dot_num=%{marker.color}<extra></extra>",
           "hovertext": [
            0,
            1,
            2,
            3,
            4,
            5,
            6,
            7
           ],
           "ids": [
            0,
            1,
            2,
            3,
            4,
            5,
            6,
            7
           ],
           "legendgroup": "",
           "marker": {
            "color": [
             0,
             1,
             2,
             3,
             4,
             5,
             6,
             7
            ],
            "coloraxis": "coloraxis",
            "symbol": "circle"
           },
           "mode": "markers",
           "name": "",
           "orientation": "v",
           "showlegend": false,
           "type": "scatter",
           "x": [
            0.9396926207859083,
            0.9230002039112792,
            0.6408563820557887,
            0.2585371795226046,
            2.0942693688384968e-17,
            0.01669241687462914,
            0.29883623873011966,
            0.6811554412633037
           ],
           "xaxis": "x",
           "y": [
            0,
            0.38231920253318413,
            0.6408563820557887,
            0.6241639651811595,
            0.3420201433256689,
            -0.04029905920751519,
            -0.2988362387301197,
            -0.28214382185549064
           ],
           "yaxis": "y"
          }
         ],
         "name": "70.0"
        },
        {
         "data": [
          {
           "hovertemplate": "<b>%{hovertext}</b><br><br>theta=80.0<br>x=%{x}<br>y=%{y}<br>dot_num=%{marker.color}<extra></extra>",
           "hovertext": [
            0,
            1,
            2,
            3,
            4,
            5,
            6,
            7
           ],
           "ids": [
            0,
            1,
            2,
            3,
            4,
            5,
            6,
            7
           ],
           "legendgroup": "",
           "marker": {
            "color": [
             0,
             1,
             2,
             3,
             4,
             5,
             6,
             7
            ],
            "coloraxis": "coloraxis",
            "symbol": "circle"
           },
           "mode": "markers",
           "name": "",
           "orientation": "v",
           "showlegend": false,
           "type": "scatter",
           "x": [
            0.984807753012208,
            0.9019798986505999,
            0.5792279653395692,
            0.20561565833058112,
            1.0632884247878853e-17,
            0.08282785436160799,
            0.40557978767263886,
            0.7791920946816269
           ],
           "xaxis": "x",
           "y": [
            0,
            0.37361230700898823,
            0.5792279653395692,
            0.49640011097796133,
            0.17364817766693028,
            -0.19996412934205754,
            -0.4055797876726389,
            -0.32275193331103075
           ],
           "yaxis": "y"
          }
         ],
         "name": "80.0"
        },
        {
         "data": [
          {
           "hovertemplate": "<b>%{hovertext}</b><br><br>theta=90.0<br>x=%{x}<br>y=%{y}<br>dot_num=%{marker.color}<extra></extra>",
           "hovertext": [
            0,
            1,
            2,
            3,
            4,
            5,
            6,
            7
           ],
           "ids": [
            0,
            1,
            2,
            3,
            4,
            5,
            6,
            7
           ],
           "legendgroup": "",
           "marker": {
            "color": [
             0,
             1,
             2,
             3,
             4,
             5,
             6,
             7
            ],
            "coloraxis": "coloraxis",
            "symbol": "circle"
           },
           "mode": "markers",
           "name": "",
           "orientation": "v",
           "showlegend": false,
           "type": "scatter",
           "x": [
            1,
            0.8535533905932737,
            0.5000000000000001,
            0.1464466094067263,
            7.498798913309288e-33,
            0.14644660940672619,
            0.4999999999999999,
            0.8535533905932735
           ],
           "xaxis": "x",
           "y": [
            0,
            0.3535533905932738,
            0.5000000000000001,
            0.35355339059327384,
            1.2246467991473532e-16,
            -0.3535533905932737,
            -0.5,
            -0.3535533905932738
           ],
           "yaxis": "y"
          }
         ],
         "name": "90.0"
        },
        {
         "data": [
          {
           "hovertemplate": "<b>%{hovertext}</b><br><br>theta=100.0<br>x=%{x}<br>y=%{y}<br>dot_num=%{marker.color}<extra></extra>",
           "hovertext": [
            0,
            1,
            2,
            3,
            4,
            5,
            6,
            7
           ],
           "ids": [
            0,
            1,
            2,
            3,
            4,
            5,
            6,
            7
           ],
           "legendgroup": "",
           "marker": {
            "color": [
             0,
             1,
             2,
             3,
             4,
             5,
             6,
             7
            ],
            "coloraxis": "coloraxis",
            "symbol": "circle"
           },
           "mode": "markers",
           "name": "",
           "orientation": "v",
           "showlegend": false,
           "type": "scatter",
           "x": [
            0.984807753012208,
            0.779192094681627,
            0.4055797876726391,
            0.0828278543616081,
            -1.0632884247878838e-17,
            0.20561565833058099,
            0.579227965339569,
            0.9019798986505999
           ],
           "xaxis": "x",
           "y": [
            0,
            0.3227519333110307,
            0.4055797876726391,
            0.19996412934205773,
            -0.17364817766693003,
            -0.4964001109779611,
            -0.5792279653395691,
            -0.37361230700898834
           ],
           "yaxis": "y"
          }
         ],
         "name": "100.0"
        },
        {
         "data": [
          {
           "hovertemplate": "<b>%{hovertext}</b><br><br>theta=110.0<br>x=%{x}<br>y=%{y}<br>dot_num=%{marker.color}<extra></extra>",
           "hovertext": [
            0,
            1,
            2,
            3,
            4,
            5,
            6,
            7
           ],
           "ids": [
            0,
            1,
            2,
            3,
            4,
            5,
            6,
            7
           ],
           "legendgroup": "",
           "marker": {
            "color": [
             0,
             1,
             2,
             3,
             4,
             5,
             6,
             7
            ],
            "coloraxis": "coloraxis",
            "symbol": "circle"
           },
           "mode": "markers",
           "name": "",
           "orientation": "v",
           "showlegend": false,
           "type": "scatter",
           "x": [
            0.9396926207859084,
            0.681155441263304,
            0.2988362387301199,
            0.01669241687462924,
            -2.0942693688384956e-17,
            0.2585371795226044,
            0.6408563820557887,
            0.9230002039112792
           ],
           "xaxis": "x",
           "y": [
            0,
            0.28214382185549064,
            0.2988362387301199,
            0.04029905920751541,
            -0.34202014332566866,
            -0.6241639651811592,
            -0.6408563820557888,
            -0.38231920253318424
           ],
           "yaxis": "y"
          }
         ],
         "name": "110.0"
        },
        {
         "data": [
          {
           "hovertemplate": "<b>%{hovertext}</b><br><br>theta=120.0<br>x=%{x}<br>y=%{y}<br>dot_num=%{marker.color}<extra></extra>",
           "hovertext": [
            0,
            1,
            2,
            3,
            4,
            5,
            6,
            7
           ],
           "ids": [
            0,
            1,
            2,
            3,
            4,
            5,
            6,
            7
           ],
           "legendgroup": "",
           "marker": {
            "color": [
             0,
             1,
             2,
             3,
             4,
             5,
             6,
             7
            ],
            "coloraxis": "coloraxis",
            "symbol": "circle"
           },
           "mode": "markers",
           "name": "",
           "orientation": "v",
           "showlegend": false,
           "type": "scatter",
           "x": [
            0.8660254037844387,
            0.5624222244434799,
            0.18301270189221952,
            -0.049950211252314726,
            -3.061616997868381e-17,
            0.3036031793409588,
            0.6830127018922193,
            0.9159756150367535
           ],
           "xaxis": "x",
           "y": [
            0,
            0.23296291314453424,
            0.18301270189221952,
            -0.12059047744873937,
            -0.4999999999999997,
            -0.7329629131445339,
            -0.6830127018922194,
            -0.37940952255126054
           ],
           "yaxis": "y"
          }
         ],
         "name": "120.0"
        },
        {
         "data": [
          {
           "hovertemplate": "<b>%{hovertext}</b><br><br>theta=130.0<br>x=%{x}<br>y=%{y}<br>dot_num=%{marker.color}<extra></extra>",
           "hovertext": [
            0,
            1,
            2,
            3,
            4,
            5,
            6,
            7
           ],
           "ids": [
            0,
            1,
            2,
            3,
            4,
            5,
            6,
            7
           ],
           "legendgroup": "",
           "marker": {
            "color": [
             0,
             1,
             2,
             3,
             4,
             5,
             6,
             7
            ],
            "coloraxis": "coloraxis",
            "symbol": "circle"
           },
           "mode": "markers",
           "name": "",
           "orientation": "v",
           "showlegend": false,
           "type": "scatter",
           "x": [
            0.766044443118978,
            0.4266000929333181,
            0.061628416716219374,
            -0.11507512748638375,
            -3.9359389436709925e-17,
            0.3394443501856598,
            0.7044160264027586,
            0.8811195706053617
           ],
           "xaxis": "x",
           "y": [
            0,
            0.1767035442026031,
            0.061628416716219374,
            -0.2778159334694405,
            -0.6427876096865393,
            -0.8194911538891422,
            -0.7044160264027587,
            -0.3649716762170988
           ],
           "yaxis": "y"
          }
         ],
         "name": "130.0"
        },
        {
         "data": [
          {
           "hovertemplate": "<b>%{hovertext}</b><br><br>theta=140.0<br>x=%{x}<br>y=%{y}<br>dot_num=%{marker.color}<extra></extra>",
           "hovertext": [
            0,
            1,
            2,
            3,
            4,
            5,
            6,
            7
           ],
           "ids": [
            0,
            1,
            2,
            3,
            4,
            5,
            6,
            7
           ],
           "legendgroup": "",
           "marker": {
            "color": [
             0,
             1,
             2,
             3,
             4,
             5,
             6,
             7
            ],
            "coloraxis": "coloraxis",
            "symbol": "circle"
           },
           "mode": "markers",
           "name": "",
           "orientation": "v",
           "showlegend": false,
           "type": "scatter",
           "x": [
            0.6427876096865395,
            0.2778159334694408,
            -0.06162841671621919,
            -0.17670354420260304,
            -4.690669376351365e-17,
            0.36497167621709864,
            0.7044160264027586,
            0.8194911538891423
           ],
           "xaxis": "x",
           "y": [
            0,
            0.11507512748638384,
            -0.06162841671621919,
            -0.42660009293331785,
            -0.7660444431189779,
            -0.8811195706053616,
            -0.7044160264027587,
            -0.33944435018566
           ],
           "yaxis": "y"
          }
         ],
         "name": "140.0"
        },
        {
         "data": [
          {
           "hovertemplate": "<b>%{hovertext}</b><br><br>theta=150.0<br>x=%{x}<br>y=%{y}<br>dot_num=%{marker.color}<extra></extra>",
           "hovertext": [
            0,
            1,
            2,
            3,
            4,
            5,
            6,
            7
           ],
           "ids": [
            0,
            1,
            2,
            3,
            4,
            5,
            6,
            7
           ],
           "legendgroup": "",
           "marker": {
            "color": [
             0,
             1,
             2,
             3,
             4,
             5,
             6,
             7
            ],
            "coloraxis": "coloraxis",
            "symbol": "circle"
           },
           "mode": "markers",
           "name": "",
           "orientation": "v",
           "showlegend": false,
           "type": "scatter",
           "x": [
            0.49999999999999994,
            0.1205904774487396,
            -0.18301270189221935,
            -0.23296291314453418,
            -5.302876193624536e-17,
            0.3794095225512603,
            0.6830127018922194,
            0.7329629131445341
           ],
           "xaxis": "x",
           "y": [
            0,
            0.049950211252314816,
            -0.18301270189221935,
            -0.5624222244434797,
            -0.8660254037844388,
            -0.9159756150367534,
            -0.6830127018922195,
            -0.30360317934095904
           ],
           "yaxis": "y"
          }
         ],
         "name": "150.0"
        },
        {
         "data": [
          {
           "hovertemplate": "<b>%{hovertext}</b><br><br>theta=160.0<br>x=%{x}<br>y=%{y}<br>dot_num=%{marker.color}<extra></extra>",
           "hovertext": [
            0,
            1,
            2,
            3,
            4,
            5,
            6,
            7
           ],
           "ids": [
            0,
            1,
            2,
            3,
            4,
            5,
            6,
            7
           ],
           "legendgroup": "",
           "marker": {
            "color": [
             0,
             1,
             2,
             3,
             4,
             5,
             6,
             7
            ],
            "coloraxis": "coloraxis",
            "symbol": "circle"
           },
           "mode": "markers",
           "name": "",
           "orientation": "v",
           "showlegend": false,
           "type": "scatter",
           "x": [
            0.3420201433256689,
            -0.04029905920751519,
            -0.2988362387301197,
            -0.2821438218554906,
            -5.753957801139251e-17,
            0.3823192025331841,
            0.6408563820557888,
            0.6241639651811596
           ],
           "xaxis": "x",
           "y": [
            0,
            -0.016692416874629145,
            -0.2988362387301197,
            -0.6811554412633037,
            -0.9396926207859084,
            -0.9230002039112792,
            -0.6408563820557888,
            -0.25853717952260463
           ],
           "yaxis": "y"
          }
         ],
         "name": "160.0"
        },
        {
         "data": [
          {
           "hovertemplate": "<b>%{hovertext}</b><br><br>theta=170.0<br>x=%{x}<br>y=%{y}<br>dot_num=%{marker.color}<extra></extra>",
           "hovertext": [
            0,
            1,
            2,
            3,
            4,
            5,
            6,
            7
           ],
           "ids": [
            0,
            1,
            2,
            3,
            4,
            5,
            6,
            7
           ],
           "legendgroup": "",
           "marker": {
            "color": [
             0,
             1,
             2,
             3,
             4,
             5,
             6,
             7
            ],
            "coloraxis": "coloraxis",
            "symbol": "circle"
           },
           "mode": "markers",
           "name": "",
           "orientation": "v",
           "showlegend": false,
           "type": "scatter",
           "x": [
            0.17364817766693028,
            -0.19996412934205793,
            -0.4055797876726389,
            -0.3227519333110307,
            -6.030208312509488e-17,
            0.3736123070089881,
            0.5792279653395691,
            0.49640011097796144
           ],
           "xaxis": "x",
           "y": [
            0,
            -0.08282785436160815,
            -0.4055797876726389,
            -0.7791920946816269,
            -0.984807753012208,
            -0.9019798986505998,
            -0.5792279653395692,
            -0.2056156583305812
           ],
           "yaxis": "y"
          }
         ],
         "name": "170.0"
        },
        {
         "data": [
          {
           "hovertemplate": "<b>%{hovertext}</b><br><br>theta=180.0<br>x=%{x}<br>y=%{y}<br>dot_num=%{marker.color}<extra></extra>",
           "hovertext": [
            0,
            1,
            2,
            3,
            4,
            5,
            6,
            7
           ],
           "ids": [
            0,
            1,
            2,
            3,
            4,
            5,
            6,
            7
           ],
           "legendgroup": "",
           "marker": {
            "color": [
             0,
             1,
             2,
             3,
             4,
             5,
             6,
             7
            ],
            "coloraxis": "coloraxis",
            "symbol": "circle"
           },
           "mode": "markers",
           "name": "",
           "orientation": "v",
           "showlegend": false,
           "type": "scatter",
           "x": [
            1.2246467991473532e-16,
            -0.3535533905932737,
            -0.5,
            -0.35355339059327373,
            -6.123233995736766e-17,
            0.3535533905932737,
            0.5000000000000001,
            0.35355339059327434
           ],
           "xaxis": "x",
           "y": [
            0,
            -0.1464466094067262,
            -0.5,
            -0.8535533905932735,
            -1,
            -0.8535533905932736,
            -0.5000000000000001,
            -0.14644660940672652
           ],
           "yaxis": "y"
          }
         ],
         "name": "180.0"
        },
        {
         "data": [
          {
           "hovertemplate": "<b>%{hovertext}</b><br><br>theta=190.0<br>x=%{x}<br>y=%{y}<br>dot_num=%{marker.color}<extra></extra>",
           "hovertext": [
            0,
            1,
            2,
            3,
            4,
            5,
            6,
            7
           ],
           "ids": [
            0,
            1,
            2,
            3,
            4,
            5,
            6,
            7
           ],
           "legendgroup": "",
           "marker": {
            "color": [
             0,
             1,
             2,
             3,
             4,
             5,
             6,
             7
            ],
            "coloraxis": "coloraxis",
            "symbol": "circle"
           },
           "mode": "markers",
           "name": "",
           "orientation": "v",
           "showlegend": false,
           "type": "scatter",
           "x": [
            -0.17364817766693047,
            -0.4964001109779611,
            -0.5792279653395694,
            -0.3736123070089883,
            -6.030208312509489e-17,
            0.3227519333110307,
            0.4055797876726385,
            0.19996412934205787
           ],
           "xaxis": "x",
           "y": [
            0,
            -0.205615658330581,
            -0.5792279653395694,
            -0.9019798986505999,
            -0.9848077530122081,
            -0.7791920946816271,
            -0.40557978767263864,
            -0.08282785436160817
           ],
           "yaxis": "y"
          }
         ],
         "name": "190.0"
        },
        {
         "data": [
          {
           "hovertemplate": "<b>%{hovertext}</b><br><br>theta=200.0<br>x=%{x}<br>y=%{y}<br>dot_num=%{marker.color}<extra></extra>",
           "hovertext": [
            0,
            1,
            2,
            3,
            4,
            5,
            6,
            7
           ],
           "ids": [
            0,
            1,
            2,
            3,
            4,
            5,
            6,
            7
           ],
           "legendgroup": "",
           "marker": {
            "color": [
             0,
             1,
             2,
             3,
             4,
             5,
             6,
             7
            ],
            "coloraxis": "coloraxis",
            "symbol": "circle"
           },
           "mode": "markers",
           "name": "",
           "orientation": "v",
           "showlegend": false,
           "type": "scatter",
           "x": [
            -0.34202014332566866,
            -0.6241639651811592,
            -0.6408563820557888,
            -0.3823192025331842,
            -5.753957801139253e-17,
            0.28214382185549064,
            0.29883623873011966,
            0.04029905920751553
           ],
           "xaxis": "x",
           "y": [
            0,
            -0.2585371795226044,
            -0.6408563820557888,
            -0.9230002039112792,
            -0.9396926207859085,
            -0.6811554412633041,
            -0.2988362387301197,
            -0.01669241687462929
           ],
           "yaxis": "y"
          }
         ],
         "name": "200.0"
        },
        {
         "data": [
          {
           "hovertemplate": "<b>%{hovertext}</b><br><br>theta=210.0<br>x=%{x}<br>y=%{y}<br>dot_num=%{marker.color}<extra></extra>",
           "hovertext": [
            0,
            1,
            2,
            3,
            4,
            5,
            6,
            7
           ],
           "ids": [
            0,
            1,
            2,
            3,
            4,
            5,
            6,
            7
           ],
           "legendgroup": "",
           "marker": {
            "color": [
             0,
             1,
             2,
             3,
             4,
             5,
             6,
             7
            ],
            "coloraxis": "coloraxis",
            "symbol": "circle"
           },
           "mode": "markers",
           "name": "",
           "orientation": "v",
           "showlegend": false,
           "type": "scatter",
           "x": [
            -0.5000000000000001,
            -0.7329629131445339,
            -0.6830127018922194,
            -0.3794095225512604,
            -5.302876193624534e-17,
            0.23296291314453424,
            0.18301270189221924,
            -0.12059047744874006
           ],
           "xaxis": "x",
           "y": [
            0,
            -0.3036031793409589,
            -0.6830127018922194,
            -0.9159756150367534,
            -0.8660254037844386,
            -0.56242222444348,
            -0.18301270189221927,
            0.04995021125231502
           ],
           "yaxis": "y"
          }
         ],
         "name": "210.0"
        },
        {
         "data": [
          {
           "hovertemplate": "<b>%{hovertext}</b><br><br>theta=220.0<br>x=%{x}<br>y=%{y}<br>dot_num=%{marker.color}<extra></extra>",
           "hovertext": [
            0,
            1,
            2,
            3,
            4,
            5,
            6,
            7
           ],
           "ids": [
            0,
            1,
            2,
            3,
            4,
            5,
            6,
            7
           ],
           "legendgroup": "",
           "marker": {
            "color": [
             0,
             1,
             2,
             3,
             4,
             5,
             6,
             7
            ],
            "coloraxis": "coloraxis",
            "symbol": "circle"
           },
           "mode": "markers",
           "name": "",
           "orientation": "v",
           "showlegend": false,
           "type": "scatter",
           "x": [
            -0.6427876096865393,
            -0.8194911538891422,
            -0.7044160264027587,
            -0.36497167621709875,
            -4.690669376351366e-17,
            0.17670354420260326,
            0.06162841671621945,
            -0.27781593346944083
           ],
           "xaxis": "x",
           "y": [
            0,
            -0.3394443501856599,
            -0.7044160264027587,
            -0.8811195706053617,
            -0.7660444431189781,
            -0.4266000929333185,
            -0.061628416716219464,
            0.11507512748638389
           ],
           "yaxis": "y"
          }
         ],
         "name": "220.0"
        },
        {
         "data": [
          {
           "hovertemplate": "<b>%{hovertext}</b><br><br>theta=230.0<br>x=%{x}<br>y=%{y}<br>dot_num=%{marker.color}<extra></extra>",
           "hovertext": [
            0,
            1,
            2,
            3,
            4,
            5,
            6,
            7
           ],
           "ids": [
            0,
            1,
            2,
            3,
            4,
            5,
            6,
            7
           ],
           "legendgroup": "",
           "marker": {
            "color": [
             0,
             1,
             2,
             3,
             4,
             5,
             6,
             7
            ],
            "coloraxis": "coloraxis",
            "symbol": "circle"
           },
           "mode": "markers",
           "name": "",
           "orientation": "v",
           "showlegend": false,
           "type": "scatter",
           "x": [
            -0.7660444431189779,
            -0.8811195706053616,
            -0.7044160264027587,
            -0.33944435018565994,
            -3.9359389436709944e-17,
            0.11507512748638402,
            -0.06162841671621911,
            -0.4266000929333182
           ],
           "xaxis": "x",
           "y": [
            0,
            -0.3649716762170987,
            -0.7044160264027587,
            -0.8194911538891423,
            -0.6427876096865396,
            -0.2778159334694412,
            0.06162841671621912,
            0.1767035442026032
           ],
           "yaxis": "y"
          }
         ],
         "name": "230.0"
        },
        {
         "data": [
          {
           "hovertemplate": "<b>%{hovertext}</b><br><br>theta=240.0<br>x=%{x}<br>y=%{y}<br>dot_num=%{marker.color}<extra></extra>",
           "hovertext": [
            0,
            1,
            2,
            3,
            4,
            5,
            6,
            7
           ],
           "ids": [
            0,
            1,
            2,
            3,
            4,
            5,
            6,
            7
           ],
           "legendgroup": "",
           "marker": {
            "color": [
             0,
             1,
             2,
             3,
             4,
             5,
             6,
             7
            ],
            "coloraxis": "coloraxis",
            "symbol": "circle"
           },
           "mode": "markers",
           "name": "",
           "orientation": "v",
           "showlegend": false,
           "type": "scatter",
           "x": [
            -0.8660254037844385,
            -0.9159756150367533,
            -0.6830127018922195,
            -0.303603179340959,
            -3.0616169978683855e-17,
            0.04995021125231519,
            -0.18301270189221894,
            -0.5624222244434796
           ],
           "xaxis": "x",
           "y": [
            0,
            -0.3794095225512603,
            -0.6830127018922195,
            -0.7329629131445341,
            -0.5000000000000004,
            -0.12059047744874052,
            0.18301270189221897,
            0.23296291314453418
           ],
           "yaxis": "y"
          }
         ],
         "name": "240.0"
        },
        {
         "data": [
          {
           "hovertemplate": "<b>%{hovertext}</b><br><br>theta=250.0<br>x=%{x}<br>y=%{y}<br>dot_num=%{marker.color}<extra></extra>",
           "hovertext": [
            0,
            1,
            2,
            3,
            4,
            5,
            6,
            7
           ],
           "ids": [
            0,
            1,
            2,
            3,
            4,
            5,
            6,
            7
           ],
           "legendgroup": "",
           "marker": {
            "color": [
             0,
             1,
             2,
             3,
             4,
             5,
             6,
             7
            ],
            "coloraxis": "coloraxis",
            "symbol": "circle"
           },
           "mode": "markers",
           "name": "",
           "orientation": "v",
           "showlegend": false,
           "type": "scatter",
           "x": [
            -0.9396926207859084,
            -0.9230002039112791,
            -0.6408563820557885,
            -0.2585371795226046,
            -2.0942693688384953e-17,
            -0.016692416874629433,
            -0.2988362387301199,
            -0.6811554412633036
           ],
           "xaxis": "x",
           "y": [
            0,
            -0.3823192025331841,
            -0.6408563820557885,
            -0.6241639651811596,
            -0.3420201433256686,
            0.0402990592075159,
            0.29883623873011994,
            0.2821438218554906
           ],
           "yaxis": "y"
          }
         ],
         "name": "250.0"
        },
        {
         "data": [
          {
           "hovertemplate": "<b>%{hovertext}</b><br><br>theta=260.0<br>x=%{x}<br>y=%{y}<br>dot_num=%{marker.color}<extra></extra>",
           "hovertext": [
            0,
            1,
            2,
            3,
            4,
            5,
            6,
            7
           ],
           "ids": [
            0,
            1,
            2,
            3,
            4,
            5,
            6,
            7
           ],
           "legendgroup": "",
           "marker": {
            "color": [
             0,
             1,
             2,
             3,
             4,
             5,
             6,
             7
            ],
            "coloraxis": "coloraxis",
            "symbol": "circle"
           },
           "mode": "markers",
           "name": "",
           "orientation": "v",
           "showlegend": false,
           "type": "scatter",
           "x": [
            -0.984807753012208,
            -0.9019798986505998,
            -0.5792279653395692,
            -0.20561565833058115,
            -1.063288424787886e-17,
            -0.08282785436160828,
            -0.4055797876726388,
            -0.7791920946816268
           ],
           "xaxis": "x",
           "y": [
            0,
            -0.3736123070089882,
            -0.5792279653395692,
            -0.49640011097796144,
            -0.1736481776669304,
            0.19996412934205823,
            0.40557978767263886,
            0.3227519333110307
           ],
           "yaxis": "y"
          }
         ],
         "name": "260.0"
        },
        {
         "data": [
          {
           "hovertemplate": "<b>%{hovertext}</b><br><br>theta=270.0<br>x=%{x}<br>y=%{y}<br>dot_num=%{marker.color}<extra></extra>",
           "hovertext": [
            0,
            1,
            2,
            3,
            4,
            5,
            6,
            7
           ],
           "ids": [
            0,
            1,
            2,
            3,
            4,
            5,
            6,
            7
           ],
           "legendgroup": "",
           "marker": {
            "color": [
             0,
             1,
             2,
             3,
             4,
             5,
             6,
             7
            ],
            "coloraxis": "coloraxis",
            "symbol": "circle"
           },
           "mode": "markers",
           "name": "",
           "orientation": "v",
           "showlegend": false,
           "type": "scatter",
           "x": [
            -1,
            -0.8535533905932736,
            -0.5000000000000001,
            -0.1464466094067265,
            -1.4997597826618576e-32,
            -0.1464466094067263,
            -0.49999999999999983,
            -0.8535533905932735
           ],
           "xaxis": "x",
           "y": [
            0,
            -0.35355339059327373,
            -0.5000000000000001,
            -0.35355339059327434,
            -2.4492935982947064e-16,
            0.3535533905932739,
            0.4999999999999999,
            0.3535533905932738
           ],
           "yaxis": "y"
          }
         ],
         "name": "270.0"
        },
        {
         "data": [
          {
           "hovertemplate": "<b>%{hovertext}</b><br><br>theta=280.0<br>x=%{x}<br>y=%{y}<br>dot_num=%{marker.color}<extra></extra>",
           "hovertext": [
            0,
            1,
            2,
            3,
            4,
            5,
            6,
            7
           ],
           "ids": [
            0,
            1,
            2,
            3,
            4,
            5,
            6,
            7
           ],
           "legendgroup": "",
           "marker": {
            "color": [
             0,
             1,
             2,
             3,
             4,
             5,
             6,
             7
            ],
            "coloraxis": "coloraxis",
            "symbol": "circle"
           },
           "mode": "markers",
           "name": "",
           "orientation": "v",
           "showlegend": false,
           "type": "scatter",
           "x": [
            -0.9848077530122081,
            -0.7791920946816271,
            -0.40557978767263914,
            -0.08282785436160847,
            1.0632884247878832e-17,
            -0.20561565833058093,
            -0.5792279653395689,
            -0.9019798986505997
           ],
           "xaxis": "x",
           "y": [
            0,
            -0.32275193331103075,
            -0.40557978767263914,
            -0.19996412934205865,
            0.17364817766692991,
            0.496400110977961,
            0.579227965339569,
            0.37361230700898823
           ],
           "yaxis": "y"
          }
         ],
         "name": "280.0"
        },
        {
         "data": [
          {
           "hovertemplate": "<b>%{hovertext}</b><br><br>theta=290.0<br>x=%{x}<br>y=%{y}<br>dot_num=%{marker.color}<extra></extra>",
           "hovertext": [
            0,
            1,
            2,
            3,
            4,
            5,
            6,
            7
           ],
           "ids": [
            0,
            1,
            2,
            3,
            4,
            5,
            6,
            7
           ],
           "legendgroup": "",
           "marker": {
            "color": [
             0,
             1,
             2,
             3,
             4,
             5,
             6,
             7
            ],
            "coloraxis": "coloraxis",
            "symbol": "circle"
           },
           "mode": "markers",
           "name": "",
           "orientation": "v",
           "showlegend": false,
           "type": "scatter",
           "x": [
            -0.9396926207859083,
            -0.6811554412633041,
            -0.2988362387301197,
            -0.016692416874628947,
            2.094269368838497e-17,
            -0.2585371795226044,
            -0.6408563820557885,
            -0.9230002039112792
           ],
           "xaxis": "x",
           "y": [
            0,
            -0.2821438218554907,
            -0.2988362387301197,
            -0.04029905920751471,
            0.34202014332566893,
            0.6241639651811592,
            0.6408563820557887,
            0.38231920253318424
           ],
           "yaxis": "y"
          }
         ],
         "name": "290.0"
        },
        {
         "data": [
          {
           "hovertemplate": "<b>%{hovertext}</b><br><br>theta=300.0<br>x=%{x}<br>y=%{y}<br>dot_num=%{marker.color}<extra></extra>",
           "hovertext": [
            0,
            1,
            2,
            3,
            4,
            5,
            6,
            7
           ],
           "ids": [
            0,
            1,
            2,
            3,
            4,
            5,
            6,
            7
           ],
           "legendgroup": "",
           "marker": {
            "color": [
             0,
             1,
             2,
             3,
             4,
             5,
             6,
             7
            ],
            "coloraxis": "coloraxis",
            "symbol": "circle"
           },
           "mode": "markers",
           "name": "",
           "orientation": "v",
           "showlegend": false,
           "type": "scatter",
           "x": [
            -0.8660254037844386,
            -0.56242222444348,
            -0.18301270189221927,
            0.04995021125231501,
            3.061616997868383e-17,
            -0.3036031793409588,
            -0.6830127018922193,
            -0.9159756150367534
           ],
           "xaxis": "x",
           "y": [
            0,
            -0.2329629131445343,
            -0.18301270189221927,
            0.12059047744874006,
            0.5,
            0.7329629131445339,
            0.6830127018922194,
            0.3794095225512605
           ],
           "yaxis": "y"
          }
         ],
         "name": "300.0"
        },
        {
         "data": [
          {
           "hovertemplate": "<b>%{hovertext}</b><br><br>theta=310.0<br>x=%{x}<br>y=%{y}<br>dot_num=%{marker.color}<extra></extra>",
           "hovertext": [
            0,
            1,
            2,
            3,
            4,
            5,
            6,
            7
           ],
           "ids": [
            0,
            1,
            2,
            3,
            4,
            5,
            6,
            7
           ],
           "legendgroup": "",
           "marker": {
            "color": [
             0,
             1,
             2,
             3,
             4,
             5,
             6,
             7
            ],
            "coloraxis": "coloraxis",
            "symbol": "circle"
           },
           "mode": "markers",
           "name": "",
           "orientation": "v",
           "showlegend": false,
           "type": "scatter",
           "x": [
            -0.7660444431189781,
            -0.4266000929333185,
            -0.061628416716219464,
            0.11507512748638388,
            3.9359389436709925e-17,
            -0.33944435018565977,
            -0.7044160264027586,
            -0.8811195706053617
           ],
           "xaxis": "x",
           "y": [
            0,
            -0.17670354420260329,
            -0.061628416716219464,
            0.27781593346944083,
            0.6427876096865393,
            0.8194911538891421,
            0.7044160264027587,
            0.3649716762170988
           ],
           "yaxis": "y"
          }
         ],
         "name": "310.0"
        },
        {
         "data": [
          {
           "hovertemplate": "<b>%{hovertext}</b><br><br>theta=320.0<br>x=%{x}<br>y=%{y}<br>dot_num=%{marker.color}<extra></extra>",
           "hovertext": [
            0,
            1,
            2,
            3,
            4,
            5,
            6,
            7
           ],
           "ids": [
            0,
            1,
            2,
            3,
            4,
            5,
            6,
            7
           ],
           "legendgroup": "",
           "marker": {
            "color": [
             0,
             1,
             2,
             3,
             4,
             5,
             6,
             7
            ],
            "coloraxis": "coloraxis",
            "symbol": "circle"
           },
           "mode": "markers",
           "name": "",
           "orientation": "v",
           "showlegend": false,
           "type": "scatter",
           "x": [
            -0.6427876096865396,
            -0.2778159334694412,
            0.06162841671621912,
            0.17670354420260317,
            4.690669376351364e-17,
            -0.36497167621709864,
            -0.7044160264027586,
            -0.8194911538891424
           ],
           "xaxis": "x",
           "y": [
            0,
            -0.11507512748638403,
            0.06162841671621912,
            0.4266000929333182,
            0.7660444431189778,
            0.8811195706053616,
            0.7044160264027587,
            0.33944435018566005
           ],
           "yaxis": "y"
          }
         ],
         "name": "320.0"
        },
        {
         "data": [
          {
           "hovertemplate": "<b>%{hovertext}</b><br><br>theta=330.0<br>x=%{x}<br>y=%{y}<br>dot_num=%{marker.color}<extra></extra>",
           "hovertext": [
            0,
            1,
            2,
            3,
            4,
            5,
            6,
            7
           ],
           "ids": [
            0,
            1,
            2,
            3,
            4,
            5,
            6,
            7
           ],
           "legendgroup": "",
           "marker": {
            "color": [
             0,
             1,
             2,
             3,
             4,
             5,
             6,
             7
            ],
            "coloraxis": "coloraxis",
            "symbol": "circle"
           },
           "mode": "markers",
           "name": "",
           "orientation": "v",
           "showlegend": false,
           "type": "scatter",
           "x": [
            -0.5000000000000004,
            -0.12059047744874052,
            0.18301270189221897,
            0.23296291314453416,
            5.302876193624533e-17,
            -0.37940952255126026,
            -0.6830127018922194,
            -0.7329629131445342
           ],
           "xaxis": "x",
           "y": [
            0,
            -0.0499502112523152,
            0.18301270189221897,
            0.5624222244434796,
            0.8660254037844384,
            0.9159756150367533,
            0.6830127018922195,
            0.3036031793409591
           ],
           "yaxis": "y"
          }
         ],
         "name": "330.0"
        },
        {
         "data": [
          {
           "hovertemplate": "<b>%{hovertext}</b><br><br>theta=340.0<br>x=%{x}<br>y=%{y}<br>dot_num=%{marker.color}<extra></extra>",
           "hovertext": [
            0,
            1,
            2,
            3,
            4,
            5,
            6,
            7
           ],
           "ids": [
            0,
            1,
            2,
            3,
            4,
            5,
            6,
            7
           ],
           "legendgroup": "",
           "marker": {
            "color": [
             0,
             1,
             2,
             3,
             4,
             5,
             6,
             7
            ],
            "coloraxis": "coloraxis",
            "symbol": "circle"
           },
           "mode": "markers",
           "name": "",
           "orientation": "v",
           "showlegend": false,
           "type": "scatter",
           "x": [
            -0.3420201433256686,
            0.0402990592075159,
            0.29883623873011994,
            0.28214382185549053,
            5.753957801139251e-17,
            -0.382319202533184,
            -0.6408563820557888,
            -0.6241639651811596
           ],
           "xaxis": "x",
           "y": [
            0,
            0.016692416874629436,
            0.29883623873011994,
            0.6811554412633036,
            0.9396926207859084,
            0.9230002039112791,
            0.6408563820557888,
            0.25853717952260463
           ],
           "yaxis": "y"
          }
         ],
         "name": "340.0"
        },
        {
         "data": [
          {
           "hovertemplate": "<b>%{hovertext}</b><br><br>theta=350.0<br>x=%{x}<br>y=%{y}<br>dot_num=%{marker.color}<extra></extra>",
           "hovertext": [
            0,
            1,
            2,
            3,
            4,
            5,
            6,
            7
           ],
           "ids": [
            0,
            1,
            2,
            3,
            4,
            5,
            6,
            7
           ],
           "legendgroup": "",
           "marker": {
            "color": [
             0,
             1,
             2,
             3,
             4,
             5,
             6,
             7
            ],
            "coloraxis": "coloraxis",
            "symbol": "circle"
           },
           "mode": "markers",
           "name": "",
           "orientation": "v",
           "showlegend": false,
           "type": "scatter",
           "x": [
            -0.1736481776669304,
            0.19996412934205823,
            0.40557978767263886,
            0.32275193331103064,
            6.030208312509488e-17,
            -0.3736123070089881,
            -0.5792279653395696,
            -0.4964001109779615
           ],
           "xaxis": "x",
           "y": [
            0,
            0.08282785436160828,
            0.40557978767263886,
            0.7791920946816268,
            0.984807753012208,
            0.9019798986505998,
            0.5792279653395697,
            0.20561565833058124
           ],
           "yaxis": "y"
          }
         ],
         "name": "350.0"
        }
       ],
       "layout": {
        "autosize": false,
        "coloraxis": {
         "colorbar": {
          "title": {
           "text": "dot_num"
          }
         },
         "colorscale": [
          [
           0,
           "#0d0887"
          ],
          [
           0.1111111111111111,
           "#46039f"
          ],
          [
           0.2222222222222222,
           "#7201a8"
          ],
          [
           0.3333333333333333,
           "#9c179e"
          ],
          [
           0.4444444444444444,
           "#bd3786"
          ],
          [
           0.5555555555555556,
           "#d8576b"
          ],
          [
           0.6666666666666666,
           "#ed7953"
          ],
          [
           0.7777777777777778,
           "#fb9f3a"
          ],
          [
           0.8888888888888888,
           "#fdca26"
          ],
          [
           1,
           "#f0f921"
          ]
         ]
        },
        "height": 800,
        "legend": {
         "tracegroupgap": 0
        },
        "margin": {
         "t": 60
        },
        "sliders": [
         {
          "active": 0,
          "currentvalue": {
           "prefix": "theta="
          },
          "len": 0.9,
          "pad": {
           "b": 10,
           "t": 60
          },
          "steps": [
           {
            "args": [
             [
              "0.0"
             ],
             {
              "frame": {
               "duration": 0,
               "redraw": false
              },
              "fromcurrent": true,
              "mode": "immediate",
              "transition": {
               "duration": 0,
               "easing": "linear"
              }
             }
            ],
            "label": "0.0",
            "method": "animate"
           },
           {
            "args": [
             [
              "10.0"
             ],
             {
              "frame": {
               "duration": 0,
               "redraw": false
              },
              "fromcurrent": true,
              "mode": "immediate",
              "transition": {
               "duration": 0,
               "easing": "linear"
              }
             }
            ],
            "label": "10.0",
            "method": "animate"
           },
           {
            "args": [
             [
              "20.0"
             ],
             {
              "frame": {
               "duration": 0,
               "redraw": false
              },
              "fromcurrent": true,
              "mode": "immediate",
              "transition": {
               "duration": 0,
               "easing": "linear"
              }
             }
            ],
            "label": "20.0",
            "method": "animate"
           },
           {
            "args": [
             [
              "30.0"
             ],
             {
              "frame": {
               "duration": 0,
               "redraw": false
              },
              "fromcurrent": true,
              "mode": "immediate",
              "transition": {
               "duration": 0,
               "easing": "linear"
              }
             }
            ],
            "label": "30.0",
            "method": "animate"
           },
           {
            "args": [
             [
              "40.0"
             ],
             {
              "frame": {
               "duration": 0,
               "redraw": false
              },
              "fromcurrent": true,
              "mode": "immediate",
              "transition": {
               "duration": 0,
               "easing": "linear"
              }
             }
            ],
            "label": "40.0",
            "method": "animate"
           },
           {
            "args": [
             [
              "50.0"
             ],
             {
              "frame": {
               "duration": 0,
               "redraw": false
              },
              "fromcurrent": true,
              "mode": "immediate",
              "transition": {
               "duration": 0,
               "easing": "linear"
              }
             }
            ],
            "label": "50.0",
            "method": "animate"
           },
           {
            "args": [
             [
              "60.0"
             ],
             {
              "frame": {
               "duration": 0,
               "redraw": false
              },
              "fromcurrent": true,
              "mode": "immediate",
              "transition": {
               "duration": 0,
               "easing": "linear"
              }
             }
            ],
            "label": "60.0",
            "method": "animate"
           },
           {
            "args": [
             [
              "70.0"
             ],
             {
              "frame": {
               "duration": 0,
               "redraw": false
              },
              "fromcurrent": true,
              "mode": "immediate",
              "transition": {
               "duration": 0,
               "easing": "linear"
              }
             }
            ],
            "label": "70.0",
            "method": "animate"
           },
           {
            "args": [
             [
              "80.0"
             ],
             {
              "frame": {
               "duration": 0,
               "redraw": false
              },
              "fromcurrent": true,
              "mode": "immediate",
              "transition": {
               "duration": 0,
               "easing": "linear"
              }
             }
            ],
            "label": "80.0",
            "method": "animate"
           },
           {
            "args": [
             [
              "90.0"
             ],
             {
              "frame": {
               "duration": 0,
               "redraw": false
              },
              "fromcurrent": true,
              "mode": "immediate",
              "transition": {
               "duration": 0,
               "easing": "linear"
              }
             }
            ],
            "label": "90.0",
            "method": "animate"
           },
           {
            "args": [
             [
              "100.0"
             ],
             {
              "frame": {
               "duration": 0,
               "redraw": false
              },
              "fromcurrent": true,
              "mode": "immediate",
              "transition": {
               "duration": 0,
               "easing": "linear"
              }
             }
            ],
            "label": "100.0",
            "method": "animate"
           },
           {
            "args": [
             [
              "110.0"
             ],
             {
              "frame": {
               "duration": 0,
               "redraw": false
              },
              "fromcurrent": true,
              "mode": "immediate",
              "transition": {
               "duration": 0,
               "easing": "linear"
              }
             }
            ],
            "label": "110.0",
            "method": "animate"
           },
           {
            "args": [
             [
              "120.0"
             ],
             {
              "frame": {
               "duration": 0,
               "redraw": false
              },
              "fromcurrent": true,
              "mode": "immediate",
              "transition": {
               "duration": 0,
               "easing": "linear"
              }
             }
            ],
            "label": "120.0",
            "method": "animate"
           },
           {
            "args": [
             [
              "130.0"
             ],
             {
              "frame": {
               "duration": 0,
               "redraw": false
              },
              "fromcurrent": true,
              "mode": "immediate",
              "transition": {
               "duration": 0,
               "easing": "linear"
              }
             }
            ],
            "label": "130.0",
            "method": "animate"
           },
           {
            "args": [
             [
              "140.0"
             ],
             {
              "frame": {
               "duration": 0,
               "redraw": false
              },
              "fromcurrent": true,
              "mode": "immediate",
              "transition": {
               "duration": 0,
               "easing": "linear"
              }
             }
            ],
            "label": "140.0",
            "method": "animate"
           },
           {
            "args": [
             [
              "150.0"
             ],
             {
              "frame": {
               "duration": 0,
               "redraw": false
              },
              "fromcurrent": true,
              "mode": "immediate",
              "transition": {
               "duration": 0,
               "easing": "linear"
              }
             }
            ],
            "label": "150.0",
            "method": "animate"
           },
           {
            "args": [
             [
              "160.0"
             ],
             {
              "frame": {
               "duration": 0,
               "redraw": false
              },
              "fromcurrent": true,
              "mode": "immediate",
              "transition": {
               "duration": 0,
               "easing": "linear"
              }
             }
            ],
            "label": "160.0",
            "method": "animate"
           },
           {
            "args": [
             [
              "170.0"
             ],
             {
              "frame": {
               "duration": 0,
               "redraw": false
              },
              "fromcurrent": true,
              "mode": "immediate",
              "transition": {
               "duration": 0,
               "easing": "linear"
              }
             }
            ],
            "label": "170.0",
            "method": "animate"
           },
           {
            "args": [
             [
              "180.0"
             ],
             {
              "frame": {
               "duration": 0,
               "redraw": false
              },
              "fromcurrent": true,
              "mode": "immediate",
              "transition": {
               "duration": 0,
               "easing": "linear"
              }
             }
            ],
            "label": "180.0",
            "method": "animate"
           },
           {
            "args": [
             [
              "190.0"
             ],
             {
              "frame": {
               "duration": 0,
               "redraw": false
              },
              "fromcurrent": true,
              "mode": "immediate",
              "transition": {
               "duration": 0,
               "easing": "linear"
              }
             }
            ],
            "label": "190.0",
            "method": "animate"
           },
           {
            "args": [
             [
              "200.0"
             ],
             {
              "frame": {
               "duration": 0,
               "redraw": false
              },
              "fromcurrent": true,
              "mode": "immediate",
              "transition": {
               "duration": 0,
               "easing": "linear"
              }
             }
            ],
            "label": "200.0",
            "method": "animate"
           },
           {
            "args": [
             [
              "210.0"
             ],
             {
              "frame": {
               "duration": 0,
               "redraw": false
              },
              "fromcurrent": true,
              "mode": "immediate",
              "transition": {
               "duration": 0,
               "easing": "linear"
              }
             }
            ],
            "label": "210.0",
            "method": "animate"
           },
           {
            "args": [
             [
              "220.0"
             ],
             {
              "frame": {
               "duration": 0,
               "redraw": false
              },
              "fromcurrent": true,
              "mode": "immediate",
              "transition": {
               "duration": 0,
               "easing": "linear"
              }
             }
            ],
            "label": "220.0",
            "method": "animate"
           },
           {
            "args": [
             [
              "230.0"
             ],
             {
              "frame": {
               "duration": 0,
               "redraw": false
              },
              "fromcurrent": true,
              "mode": "immediate",
              "transition": {
               "duration": 0,
               "easing": "linear"
              }
             }
            ],
            "label": "230.0",
            "method": "animate"
           },
           {
            "args": [
             [
              "240.0"
             ],
             {
              "frame": {
               "duration": 0,
               "redraw": false
              },
              "fromcurrent": true,
              "mode": "immediate",
              "transition": {
               "duration": 0,
               "easing": "linear"
              }
             }
            ],
            "label": "240.0",
            "method": "animate"
           },
           {
            "args": [
             [
              "250.0"
             ],
             {
              "frame": {
               "duration": 0,
               "redraw": false
              },
              "fromcurrent": true,
              "mode": "immediate",
              "transition": {
               "duration": 0,
               "easing": "linear"
              }
             }
            ],
            "label": "250.0",
            "method": "animate"
           },
           {
            "args": [
             [
              "260.0"
             ],
             {
              "frame": {
               "duration": 0,
               "redraw": false
              },
              "fromcurrent": true,
              "mode": "immediate",
              "transition": {
               "duration": 0,
               "easing": "linear"
              }
             }
            ],
            "label": "260.0",
            "method": "animate"
           },
           {
            "args": [
             [
              "270.0"
             ],
             {
              "frame": {
               "duration": 0,
               "redraw": false
              },
              "fromcurrent": true,
              "mode": "immediate",
              "transition": {
               "duration": 0,
               "easing": "linear"
              }
             }
            ],
            "label": "270.0",
            "method": "animate"
           },
           {
            "args": [
             [
              "280.0"
             ],
             {
              "frame": {
               "duration": 0,
               "redraw": false
              },
              "fromcurrent": true,
              "mode": "immediate",
              "transition": {
               "duration": 0,
               "easing": "linear"
              }
             }
            ],
            "label": "280.0",
            "method": "animate"
           },
           {
            "args": [
             [
              "290.0"
             ],
             {
              "frame": {
               "duration": 0,
               "redraw": false
              },
              "fromcurrent": true,
              "mode": "immediate",
              "transition": {
               "duration": 0,
               "easing": "linear"
              }
             }
            ],
            "label": "290.0",
            "method": "animate"
           },
           {
            "args": [
             [
              "300.0"
             ],
             {
              "frame": {
               "duration": 0,
               "redraw": false
              },
              "fromcurrent": true,
              "mode": "immediate",
              "transition": {
               "duration": 0,
               "easing": "linear"
              }
             }
            ],
            "label": "300.0",
            "method": "animate"
           },
           {
            "args": [
             [
              "310.0"
             ],
             {
              "frame": {
               "duration": 0,
               "redraw": false
              },
              "fromcurrent": true,
              "mode": "immediate",
              "transition": {
               "duration": 0,
               "easing": "linear"
              }
             }
            ],
            "label": "310.0",
            "method": "animate"
           },
           {
            "args": [
             [
              "320.0"
             ],
             {
              "frame": {
               "duration": 0,
               "redraw": false
              },
              "fromcurrent": true,
              "mode": "immediate",
              "transition": {
               "duration": 0,
               "easing": "linear"
              }
             }
            ],
            "label": "320.0",
            "method": "animate"
           },
           {
            "args": [
             [
              "330.0"
             ],
             {
              "frame": {
               "duration": 0,
               "redraw": false
              },
              "fromcurrent": true,
              "mode": "immediate",
              "transition": {
               "duration": 0,
               "easing": "linear"
              }
             }
            ],
            "label": "330.0",
            "method": "animate"
           },
           {
            "args": [
             [
              "340.0"
             ],
             {
              "frame": {
               "duration": 0,
               "redraw": false
              },
              "fromcurrent": true,
              "mode": "immediate",
              "transition": {
               "duration": 0,
               "easing": "linear"
              }
             }
            ],
            "label": "340.0",
            "method": "animate"
           },
           {
            "args": [
             [
              "350.0"
             ],
             {
              "frame": {
               "duration": 0,
               "redraw": false
              },
              "fromcurrent": true,
              "mode": "immediate",
              "transition": {
               "duration": 0,
               "easing": "linear"
              }
             }
            ],
            "label": "350.0",
            "method": "animate"
           }
          ],
          "x": 0.1,
          "xanchor": "left",
          "y": 0,
          "yanchor": "top"
         }
        ],
        "template": {
         "data": {
          "bar": [
           {
            "error_x": {
             "color": "#2a3f5f"
            },
            "error_y": {
             "color": "#2a3f5f"
            },
            "marker": {
             "line": {
              "color": "#E5ECF6",
              "width": 0.5
             },
             "pattern": {
              "fillmode": "overlay",
              "size": 10,
              "solidity": 0.2
             }
            },
            "type": "bar"
           }
          ],
          "barpolar": [
           {
            "marker": {
             "line": {
              "color": "#E5ECF6",
              "width": 0.5
             },
             "pattern": {
              "fillmode": "overlay",
              "size": 10,
              "solidity": 0.2
             }
            },
            "type": "barpolar"
           }
          ],
          "carpet": [
           {
            "aaxis": {
             "endlinecolor": "#2a3f5f",
             "gridcolor": "white",
             "linecolor": "white",
             "minorgridcolor": "white",
             "startlinecolor": "#2a3f5f"
            },
            "baxis": {
             "endlinecolor": "#2a3f5f",
             "gridcolor": "white",
             "linecolor": "white",
             "minorgridcolor": "white",
             "startlinecolor": "#2a3f5f"
            },
            "type": "carpet"
           }
          ],
          "choropleth": [
           {
            "colorbar": {
             "outlinewidth": 0,
             "ticks": ""
            },
            "type": "choropleth"
           }
          ],
          "contour": [
           {
            "colorbar": {
             "outlinewidth": 0,
             "ticks": ""
            },
            "colorscale": [
             [
              0,
              "#0d0887"
             ],
             [
              0.1111111111111111,
              "#46039f"
             ],
             [
              0.2222222222222222,
              "#7201a8"
             ],
             [
              0.3333333333333333,
              "#9c179e"
             ],
             [
              0.4444444444444444,
              "#bd3786"
             ],
             [
              0.5555555555555556,
              "#d8576b"
             ],
             [
              0.6666666666666666,
              "#ed7953"
             ],
             [
              0.7777777777777778,
              "#fb9f3a"
             ],
             [
              0.8888888888888888,
              "#fdca26"
             ],
             [
              1,
              "#f0f921"
             ]
            ],
            "type": "contour"
           }
          ],
          "contourcarpet": [
           {
            "colorbar": {
             "outlinewidth": 0,
             "ticks": ""
            },
            "type": "contourcarpet"
           }
          ],
          "heatmap": [
           {
            "colorbar": {
             "outlinewidth": 0,
             "ticks": ""
            },
            "colorscale": [
             [
              0,
              "#0d0887"
             ],
             [
              0.1111111111111111,
              "#46039f"
             ],
             [
              0.2222222222222222,
              "#7201a8"
             ],
             [
              0.3333333333333333,
              "#9c179e"
             ],
             [
              0.4444444444444444,
              "#bd3786"
             ],
             [
              0.5555555555555556,
              "#d8576b"
             ],
             [
              0.6666666666666666,
              "#ed7953"
             ],
             [
              0.7777777777777778,
              "#fb9f3a"
             ],
             [
              0.8888888888888888,
              "#fdca26"
             ],
             [
              1,
              "#f0f921"
             ]
            ],
            "type": "heatmap"
           }
          ],
          "heatmapgl": [
           {
            "colorbar": {
             "outlinewidth": 0,
             "ticks": ""
            },
            "colorscale": [
             [
              0,
              "#0d0887"
             ],
             [
              0.1111111111111111,
              "#46039f"
             ],
             [
              0.2222222222222222,
              "#7201a8"
             ],
             [
              0.3333333333333333,
              "#9c179e"
             ],
             [
              0.4444444444444444,
              "#bd3786"
             ],
             [
              0.5555555555555556,
              "#d8576b"
             ],
             [
              0.6666666666666666,
              "#ed7953"
             ],
             [
              0.7777777777777778,
              "#fb9f3a"
             ],
             [
              0.8888888888888888,
              "#fdca26"
             ],
             [
              1,
              "#f0f921"
             ]
            ],
            "type": "heatmapgl"
           }
          ],
          "histogram": [
           {
            "marker": {
             "pattern": {
              "fillmode": "overlay",
              "size": 10,
              "solidity": 0.2
             }
            },
            "type": "histogram"
           }
          ],
          "histogram2d": [
           {
            "colorbar": {
             "outlinewidth": 0,
             "ticks": ""
            },
            "colorscale": [
             [
              0,
              "#0d0887"
             ],
             [
              0.1111111111111111,
              "#46039f"
             ],
             [
              0.2222222222222222,
              "#7201a8"
             ],
             [
              0.3333333333333333,
              "#9c179e"
             ],
             [
              0.4444444444444444,
              "#bd3786"
             ],
             [
              0.5555555555555556,
              "#d8576b"
             ],
             [
              0.6666666666666666,
              "#ed7953"
             ],
             [
              0.7777777777777778,
              "#fb9f3a"
             ],
             [
              0.8888888888888888,
              "#fdca26"
             ],
             [
              1,
              "#f0f921"
             ]
            ],
            "type": "histogram2d"
           }
          ],
          "histogram2dcontour": [
           {
            "colorbar": {
             "outlinewidth": 0,
             "ticks": ""
            },
            "colorscale": [
             [
              0,
              "#0d0887"
             ],
             [
              0.1111111111111111,
              "#46039f"
             ],
             [
              0.2222222222222222,
              "#7201a8"
             ],
             [
              0.3333333333333333,
              "#9c179e"
             ],
             [
              0.4444444444444444,
              "#bd3786"
             ],
             [
              0.5555555555555556,
              "#d8576b"
             ],
             [
              0.6666666666666666,
              "#ed7953"
             ],
             [
              0.7777777777777778,
              "#fb9f3a"
             ],
             [
              0.8888888888888888,
              "#fdca26"
             ],
             [
              1,
              "#f0f921"
             ]
            ],
            "type": "histogram2dcontour"
           }
          ],
          "mesh3d": [
           {
            "colorbar": {
             "outlinewidth": 0,
             "ticks": ""
            },
            "type": "mesh3d"
           }
          ],
          "parcoords": [
           {
            "line": {
             "colorbar": {
              "outlinewidth": 0,
              "ticks": ""
             }
            },
            "type": "parcoords"
           }
          ],
          "pie": [
           {
            "automargin": true,
            "type": "pie"
           }
          ],
          "scatter": [
           {
            "fillpattern": {
             "fillmode": "overlay",
             "size": 10,
             "solidity": 0.2
            },
            "type": "scatter"
           }
          ],
          "scatter3d": [
           {
            "line": {
             "colorbar": {
              "outlinewidth": 0,
              "ticks": ""
             }
            },
            "marker": {
             "colorbar": {
              "outlinewidth": 0,
              "ticks": ""
             }
            },
            "type": "scatter3d"
           }
          ],
          "scattercarpet": [
           {
            "marker": {
             "colorbar": {
              "outlinewidth": 0,
              "ticks": ""
             }
            },
            "type": "scattercarpet"
           }
          ],
          "scattergeo": [
           {
            "marker": {
             "colorbar": {
              "outlinewidth": 0,
              "ticks": ""
             }
            },
            "type": "scattergeo"
           }
          ],
          "scattergl": [
           {
            "marker": {
             "colorbar": {
              "outlinewidth": 0,
              "ticks": ""
             }
            },
            "type": "scattergl"
           }
          ],
          "scattermapbox": [
           {
            "marker": {
             "colorbar": {
              "outlinewidth": 0,
              "ticks": ""
             }
            },
            "type": "scattermapbox"
           }
          ],
          "scatterpolar": [
           {
            "marker": {
             "colorbar": {
              "outlinewidth": 0,
              "ticks": ""
             }
            },
            "type": "scatterpolar"
           }
          ],
          "scatterpolargl": [
           {
            "marker": {
             "colorbar": {
              "outlinewidth": 0,
              "ticks": ""
             }
            },
            "type": "scatterpolargl"
           }
          ],
          "scatterternary": [
           {
            "marker": {
             "colorbar": {
              "outlinewidth": 0,
              "ticks": ""
             }
            },
            "type": "scatterternary"
           }
          ],
          "surface": [
           {
            "colorbar": {
             "outlinewidth": 0,
             "ticks": ""
            },
            "colorscale": [
             [
              0,
              "#0d0887"
             ],
             [
              0.1111111111111111,
              "#46039f"
             ],
             [
              0.2222222222222222,
              "#7201a8"
             ],
             [
              0.3333333333333333,
              "#9c179e"
             ],
             [
              0.4444444444444444,
              "#bd3786"
             ],
             [
              0.5555555555555556,
              "#d8576b"
             ],
             [
              0.6666666666666666,
              "#ed7953"
             ],
             [
              0.7777777777777778,
              "#fb9f3a"
             ],
             [
              0.8888888888888888,
              "#fdca26"
             ],
             [
              1,
              "#f0f921"
             ]
            ],
            "type": "surface"
           }
          ],
          "table": [
           {
            "cells": {
             "fill": {
              "color": "#EBF0F8"
             },
             "line": {
              "color": "white"
             }
            },
            "header": {
             "fill": {
              "color": "#C8D4E3"
             },
             "line": {
              "color": "white"
             }
            },
            "type": "table"
           }
          ]
         },
         "layout": {
          "annotationdefaults": {
           "arrowcolor": "#2a3f5f",
           "arrowhead": 0,
           "arrowwidth": 1
          },
          "autotypenumbers": "strict",
          "coloraxis": {
           "colorbar": {
            "outlinewidth": 0,
            "ticks": ""
           }
          },
          "colorscale": {
           "diverging": [
            [
             0,
             "#8e0152"
            ],
            [
             0.1,
             "#c51b7d"
            ],
            [
             0.2,
             "#de77ae"
            ],
            [
             0.3,
             "#f1b6da"
            ],
            [
             0.4,
             "#fde0ef"
            ],
            [
             0.5,
             "#f7f7f7"
            ],
            [
             0.6,
             "#e6f5d0"
            ],
            [
             0.7,
             "#b8e186"
            ],
            [
             0.8,
             "#7fbc41"
            ],
            [
             0.9,
             "#4d9221"
            ],
            [
             1,
             "#276419"
            ]
           ],
           "sequential": [
            [
             0,
             "#0d0887"
            ],
            [
             0.1111111111111111,
             "#46039f"
            ],
            [
             0.2222222222222222,
             "#7201a8"
            ],
            [
             0.3333333333333333,
             "#9c179e"
            ],
            [
             0.4444444444444444,
             "#bd3786"
            ],
            [
             0.5555555555555556,
             "#d8576b"
            ],
            [
             0.6666666666666666,
             "#ed7953"
            ],
            [
             0.7777777777777778,
             "#fb9f3a"
            ],
            [
             0.8888888888888888,
             "#fdca26"
            ],
            [
             1,
             "#f0f921"
            ]
           ],
           "sequentialminus": [
            [
             0,
             "#0d0887"
            ],
            [
             0.1111111111111111,
             "#46039f"
            ],
            [
             0.2222222222222222,
             "#7201a8"
            ],
            [
             0.3333333333333333,
             "#9c179e"
            ],
            [
             0.4444444444444444,
             "#bd3786"
            ],
            [
             0.5555555555555556,
             "#d8576b"
            ],
            [
             0.6666666666666666,
             "#ed7953"
            ],
            [
             0.7777777777777778,
             "#fb9f3a"
            ],
            [
             0.8888888888888888,
             "#fdca26"
            ],
            [
             1,
             "#f0f921"
            ]
           ]
          },
          "colorway": [
           "#636efa",
           "#EF553B",
           "#00cc96",
           "#ab63fa",
           "#FFA15A",
           "#19d3f3",
           "#FF6692",
           "#B6E880",
           "#FF97FF",
           "#FECB52"
          ],
          "font": {
           "color": "#2a3f5f"
          },
          "geo": {
           "bgcolor": "white",
           "lakecolor": "white",
           "landcolor": "#E5ECF6",
           "showlakes": true,
           "showland": true,
           "subunitcolor": "white"
          },
          "hoverlabel": {
           "align": "left"
          },
          "hovermode": "closest",
          "mapbox": {
           "style": "light"
          },
          "paper_bgcolor": "white",
          "plot_bgcolor": "#E5ECF6",
          "polar": {
           "angularaxis": {
            "gridcolor": "white",
            "linecolor": "white",
            "ticks": ""
           },
           "bgcolor": "#E5ECF6",
           "radialaxis": {
            "gridcolor": "white",
            "linecolor": "white",
            "ticks": ""
           }
          },
          "scene": {
           "xaxis": {
            "backgroundcolor": "#E5ECF6",
            "gridcolor": "white",
            "gridwidth": 2,
            "linecolor": "white",
            "showbackground": true,
            "ticks": "",
            "zerolinecolor": "white"
           },
           "yaxis": {
            "backgroundcolor": "#E5ECF6",
            "gridcolor": "white",
            "gridwidth": 2,
            "linecolor": "white",
            "showbackground": true,
            "ticks": "",
            "zerolinecolor": "white"
           },
           "zaxis": {
            "backgroundcolor": "#E5ECF6",
            "gridcolor": "white",
            "gridwidth": 2,
            "linecolor": "white",
            "showbackground": true,
            "ticks": "",
            "zerolinecolor": "white"
           }
          },
          "shapedefaults": {
           "line": {
            "color": "#2a3f5f"
           }
          },
          "ternary": {
           "aaxis": {
            "gridcolor": "white",
            "linecolor": "white",
            "ticks": ""
           },
           "baxis": {
            "gridcolor": "white",
            "linecolor": "white",
            "ticks": ""
           },
           "bgcolor": "#E5ECF6",
           "caxis": {
            "gridcolor": "white",
            "linecolor": "white",
            "ticks": ""
           }
          },
          "title": {
           "x": 0.05
          },
          "xaxis": {
           "automargin": true,
           "gridcolor": "white",
           "linecolor": "white",
           "ticks": "",
           "title": {
            "standoff": 15
           },
           "zerolinecolor": "white",
           "zerolinewidth": 2
          },
          "yaxis": {
           "automargin": true,
           "gridcolor": "white",
           "linecolor": "white",
           "ticks": "",
           "title": {
            "standoff": 15
           },
           "zerolinecolor": "white",
           "zerolinewidth": 2
          }
         }
        },
        "updatemenus": [
         {
          "buttons": [
           {
            "args": [
             null,
             {
              "frame": {
               "duration": 500,
               "redraw": false
              },
              "fromcurrent": true,
              "mode": "immediate",
              "transition": {
               "duration": 500,
               "easing": "linear"
              }
             }
            ],
            "label": "&#9654;",
            "method": "animate"
           },
           {
            "args": [
             [
              null
             ],
             {
              "frame": {
               "duration": 0,
               "redraw": false
              },
              "fromcurrent": true,
              "mode": "immediate",
              "transition": {
               "duration": 0,
               "easing": "linear"
              }
             }
            ],
            "label": "&#9724;",
            "method": "animate"
           }
          ],
          "direction": "left",
          "pad": {
           "r": 10,
           "t": 70
          },
          "showactive": false,
          "type": "buttons",
          "x": 0.1,
          "xanchor": "right",
          "y": 0,
          "yanchor": "top"
         }
        ],
        "width": 800,
        "xaxis": {
         "anchor": "y",
         "domain": [
          0,
          1
         ],
         "range": [
          -1.1,
          1.1
         ],
         "title": {
          "text": "x"
         }
        },
        "yaxis": {
         "anchor": "x",
         "domain": [
          0,
          1
         ],
         "range": [
          -1.1,
          1.1
         ],
         "title": {
          "text": "y"
         }
        }
       }
      }
     },
     "metadata": {},
     "output_type": "display_data"
    }
   ],
   "source": [
    "# Parameters\n",
    "radius = 1\n",
    "num_dots = 8\n",
    "num_steps = 36\n",
    "\n",
    "dot_radial_delta = 180 / num_dots\n",
    "delta = 360 / num_steps\n",
    "\n",
    "# Generate point data\n",
    "\n",
    "# Dot paths specified as unit vectors\n",
    "dot_nums = np.array([e for e in range(num_dots)])\n",
    "dot_thetas = dot_nums * dot_radial_delta\n",
    "dot_thetas_rad = np.deg2rad(dot_thetas)\n",
    "dot_unit_x = radius * np.cos(dot_thetas_rad)\n",
    "dot_unit_y = radius * np.sin(dot_thetas_rad)\n",
    "\n",
    "# Theta - used as animation \"frame\", where in the animation are we\n",
    "steps = np.array([e for e in range(num_steps)])\n",
    "thetas = steps * delta\n",
    "thetas_rad = np.deg2rad(thetas)\n",
    "\n",
    "# Spread datapoints: For every dot, for every theta\n",
    "dot_nums_spread = np.repeat(dot_nums, num_steps)\n",
    "dot_thetas_rad_spread = np.repeat(dot_thetas_rad, num_steps)\n",
    "dot_unit_x_spread = np.repeat(dot_unit_x, num_steps)\n",
    "dot_unit_y_spread = np.repeat(dot_unit_y, num_steps)\n",
    "\n",
    "thetas_spread = (thetas * np.ones(num_dots * num_steps).reshape(num_dots, num_steps)).flatten()\n",
    "thetas_rad_spread = (thetas_rad * np.ones(num_dots * num_steps).reshape(num_dots, num_steps)).flatten()\n",
    "\n",
    "# Dot phase (offset the dots in the animation)\n",
    "phis = np.sin(dot_thetas_rad_spread + thetas_rad_spread)\n",
    "x = dot_unit_x_spread * phis\n",
    "y = dot_unit_y_spread * phis\n",
    "\n",
    "# Create dataframe\n",
    "a = np.hstack((np.transpose([dot_nums_spread]),\n",
    "               np.transpose([thetas_spread]),\n",
    "               np.transpose([x]),\n",
    "               np.transpose([y])))\n",
    "columns = ['dot_num', 'theta', 'x', 'y']\n",
    "df = pd.DataFrame(data=a, columns=columns)\n",
    "\n",
    "# Plot\n",
    "fig = px.scatter(df, x=\"x\", y=\"y\",\n",
    "                 animation_frame=\"theta\", animation_group=\"dot_num\",\n",
    "                 color=\"dot_num\", hover_name=\"dot_num\",\n",
    "                 range_x=[-1.1, 1.1], range_y=[-1.1, 1.1])\n",
    "fig.update_layout(autosize=False, width=800, height=800)\n",
    "fig.show()"
   ]
  }
 ],
 "metadata": {
  "kernelspec": {
   "display_name": "Python 3",
   "language": "python",
   "name": "python3"
  },
  "language_info": {
   "codemirror_mode": {
    "name": "ipython",
    "version": 3
   },
   "file_extension": ".py",
   "mimetype": "text/x-python",
   "name": "python",
   "nbconvert_exporter": "python",
   "pygments_lexer": "ipython3",
   "version": "3.12.4"
  }
 },
 "nbformat": 4,
 "nbformat_minor": 2
}
